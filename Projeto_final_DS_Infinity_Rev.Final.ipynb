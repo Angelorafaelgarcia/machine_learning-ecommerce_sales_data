{
 "cells": [
  {
   "cell_type": "markdown",
   "id": "dbe70b8f",
   "metadata": {},
   "source": [
    "PROJETO FINAL DATA SCIENCE - INFINITY SCHOOL"
   ]
  },
  {
   "cell_type": "markdown",
   "id": "0fdb9633",
   "metadata": {},
   "source": [
    "Banco de dados de um ecommerce de roupas femininas, retirado da biblioteca Kaggle Nome: Angelo Rafael Garcia de Almeida Github: https://github.com/Angelorafaelgarcia/machine_learning-ecommerce_sales_data"
   ]
  },
  {
   "cell_type": "markdown",
   "id": "e2e320d7",
   "metadata": {},
   "source": [
    "Pacotes do Python, são conjuntos de funcionalidades chamados de bibliotecas disponíveis da ferramenta. A primeira coisa que temos que fazer é importar os pacotes que iremos utilizar."
   ]
  },
  {
   "cell_type": "markdown",
   "id": "3c45192d",
   "metadata": {},
   "source": [
    "Pandas: Possui inúmeras funções e comandos para importar arquivos, analisar dados, tratar dados, etc."
   ]
  },
  {
   "cell_type": "markdown",
   "id": "37632f28",
   "metadata": {},
   "source": [
    "Matplotlib: Possui uma série de funções e comandos para exibição de gráficos"
   ]
  },
  {
   "cell_type": "markdown",
   "id": "0cab1dae",
   "metadata": {},
   "source": [
    "Seaborn: Possui uma série de funções e comandos para exibição de gráficos (Visualizações mais robustas do que o Matplotlib)"
   ]
  },
  {
   "cell_type": "markdown",
   "id": "d8937eb3",
   "metadata": {},
   "source": [
    "Numpy: Possui uma série de funções e comandos para trabalharmos com números de forma em geral(formatação, calculos, etc)"
   ]
  },
  {
   "cell_type": "markdown",
   "id": "087de48b",
   "metadata": {},
   "source": [
    "Locale: Utilizado para formatação de datas, valores, dias de acordo com a região que queremos."
   ]
  },
  {
   "cell_type": "markdown",
   "id": "a20e35fe",
   "metadata": {},
   "source": [
    "sklearn: fornece uma variedade de algoritmos de aprendizado de máquina e técnicas de modelagem de dados."
   ]
  },
  {
   "cell_type": "code",
   "execution_count": 1,
   "id": "d997fba6",
   "metadata": {},
   "outputs": [],
   "source": [
    "# Importando as bibliotecas:\n",
    "import pandas as pd\n",
    "import matplotlib.pyplot as plt\n",
    "import seaborn as sns\n",
    "import numpy as np\n",
    "import locale\n",
    "import sklearn\n",
    "from sklearn.linear_model import LinearRegression\n",
    "from sklearn.model_selection import train_test_split\n",
    "from sklearn.metrics import mean_squared_error\n",
    "from sklearn.preprocessing import OneHotEncoder\n",
    "from sklearn.metrics import accuracy_score, confusion_matrix, classification_report"
   ]
  },
  {
   "cell_type": "markdown",
   "id": "a164a058",
   "metadata": {},
   "source": [
    "Um DataFrame do Pandas é como se fosse uma planilha do Excel, onde podemos tratar linhas e colunas.\n",
    "O caminho do arquivo possivelmente pode ser editado para apresentar apenas o nome do arquivo, considerando que ele esteja na mesma pasta do notebook, colocamos o dataframe no meu github para facilitar."
   ]
  },
  {
   "cell_type": "code",
   "execution_count": 2,
   "id": "1cf58089",
   "metadata": {},
   "outputs": [
    {
     "data": {
      "text/html": [
       "<div>\n",
       "<style scoped>\n",
       "    .dataframe tbody tr th:only-of-type {\n",
       "        vertical-align: middle;\n",
       "    }\n",
       "\n",
       "    .dataframe tbody tr th {\n",
       "        vertical-align: top;\n",
       "    }\n",
       "\n",
       "    .dataframe thead th {\n",
       "        text-align: right;\n",
       "    }\n",
       "</style>\n",
       "<table border=\"1\" class=\"dataframe\">\n",
       "  <thead>\n",
       "    <tr style=\"text-align: right;\">\n",
       "      <th></th>\n",
       "      <th>order_id</th>\n",
       "      <th>order_date</th>\n",
       "      <th>sku</th>\n",
       "      <th>color</th>\n",
       "      <th>size</th>\n",
       "      <th>unit_price</th>\n",
       "      <th>quantity</th>\n",
       "      <th>revenue</th>\n",
       "    </tr>\n",
       "  </thead>\n",
       "  <tbody>\n",
       "    <tr>\n",
       "      <th>0</th>\n",
       "      <td>1</td>\n",
       "      <td>2022/6/1 16:05:00</td>\n",
       "      <td>708</td>\n",
       "      <td>Dark Blue</td>\n",
       "      <td>2XL</td>\n",
       "      <td>298</td>\n",
       "      <td>1</td>\n",
       "      <td>298</td>\n",
       "    </tr>\n",
       "    <tr>\n",
       "      <th>1</th>\n",
       "      <td>1</td>\n",
       "      <td>2022/6/1 16:05:00</td>\n",
       "      <td>89</td>\n",
       "      <td>Dark Blue</td>\n",
       "      <td>2XL</td>\n",
       "      <td>258</td>\n",
       "      <td>1</td>\n",
       "      <td>258</td>\n",
       "    </tr>\n",
       "    <tr>\n",
       "      <th>2</th>\n",
       "      <td>2</td>\n",
       "      <td>2022/6/10 17:03:00</td>\n",
       "      <td>bobo</td>\n",
       "      <td>Cream</td>\n",
       "      <td>One Size</td>\n",
       "      <td>228</td>\n",
       "      <td>1</td>\n",
       "      <td>228</td>\n",
       "    </tr>\n",
       "    <tr>\n",
       "      <th>3</th>\n",
       "      <td>3</td>\n",
       "      <td>2022/6/10 19:59:00</td>\n",
       "      <td>799</td>\n",
       "      <td>Dark Blue</td>\n",
       "      <td>XL</td>\n",
       "      <td>264</td>\n",
       "      <td>1</td>\n",
       "      <td>264</td>\n",
       "    </tr>\n",
       "    <tr>\n",
       "      <th>4</th>\n",
       "      <td>4</td>\n",
       "      <td>2022/6/11 11:42:00</td>\n",
       "      <td>799</td>\n",
       "      <td>Dark Blue</td>\n",
       "      <td>M</td>\n",
       "      <td>264</td>\n",
       "      <td>1</td>\n",
       "      <td>264</td>\n",
       "    </tr>\n",
       "    <tr>\n",
       "      <th>...</th>\n",
       "      <td>...</td>\n",
       "      <td>...</td>\n",
       "      <td>...</td>\n",
       "      <td>...</td>\n",
       "      <td>...</td>\n",
       "      <td>...</td>\n",
       "      <td>...</td>\n",
       "      <td>...</td>\n",
       "    </tr>\n",
       "    <tr>\n",
       "      <th>522</th>\n",
       "      <td>171</td>\n",
       "      <td>2022/9/9 6:27:00</td>\n",
       "      <td>799</td>\n",
       "      <td>Dark Blue</td>\n",
       "      <td>M</td>\n",
       "      <td>265</td>\n",
       "      <td>1</td>\n",
       "      <td>265</td>\n",
       "    </tr>\n",
       "    <tr>\n",
       "      <th>523</th>\n",
       "      <td>172</td>\n",
       "      <td>2022/9/9 7:18:00</td>\n",
       "      <td>708</td>\n",
       "      <td>Dark Blue</td>\n",
       "      <td>4XL</td>\n",
       "      <td>278</td>\n",
       "      <td>1</td>\n",
       "      <td>278</td>\n",
       "    </tr>\n",
       "    <tr>\n",
       "      <th>524</th>\n",
       "      <td>173</td>\n",
       "      <td>2022/9/9 7:22:00</td>\n",
       "      <td>799</td>\n",
       "      <td>Dark Blue</td>\n",
       "      <td>M</td>\n",
       "      <td>265</td>\n",
       "      <td>1</td>\n",
       "      <td>265</td>\n",
       "    </tr>\n",
       "    <tr>\n",
       "      <th>525</th>\n",
       "      <td>174</td>\n",
       "      <td>2022/9/9 8:25:00</td>\n",
       "      <td>799</td>\n",
       "      <td>Dark Blue</td>\n",
       "      <td>L</td>\n",
       "      <td>265</td>\n",
       "      <td>1</td>\n",
       "      <td>265</td>\n",
       "    </tr>\n",
       "    <tr>\n",
       "      <th>526</th>\n",
       "      <td>175</td>\n",
       "      <td>2022/9/9 9:47:00</td>\n",
       "      <td>799</td>\n",
       "      <td>Dark Blue</td>\n",
       "      <td>XL</td>\n",
       "      <td>265</td>\n",
       "      <td>1</td>\n",
       "      <td>265</td>\n",
       "    </tr>\n",
       "  </tbody>\n",
       "</table>\n",
       "<p>527 rows × 8 columns</p>\n",
       "</div>"
      ],
      "text/plain": [
       "     order_id          order_date   sku      color      size  unit_price  \\\n",
       "0           1   2022/6/1 16:05:00   708  Dark Blue       2XL         298   \n",
       "1           1   2022/6/1 16:05:00    89  Dark Blue       2XL         258   \n",
       "2           2  2022/6/10 17:03:00  bobo      Cream  One Size         228   \n",
       "3           3  2022/6/10 19:59:00   799  Dark Blue        XL         264   \n",
       "4           4  2022/6/11 11:42:00   799  Dark Blue         M         264   \n",
       "..        ...                 ...   ...        ...       ...         ...   \n",
       "522       171    2022/9/9 6:27:00   799  Dark Blue         M         265   \n",
       "523       172    2022/9/9 7:18:00   708  Dark Blue       4XL         278   \n",
       "524       173    2022/9/9 7:22:00   799  Dark Blue         M         265   \n",
       "525       174    2022/9/9 8:25:00   799  Dark Blue         L         265   \n",
       "526       175    2022/9/9 9:47:00   799  Dark Blue        XL         265   \n",
       "\n",
       "     quantity  revenue  \n",
       "0           1      298  \n",
       "1           1      258  \n",
       "2           1      228  \n",
       "3           1      264  \n",
       "4           1      264  \n",
       "..        ...      ...  \n",
       "522         1      265  \n",
       "523         1      278  \n",
       "524         1      265  \n",
       "525         1      265  \n",
       "526         1      265  \n",
       "\n",
       "[527 rows x 8 columns]"
      ]
     },
     "execution_count": 2,
     "metadata": {},
     "output_type": "execute_result"
    }
   ],
   "source": [
    "# Comando utilizado para carregar o arquivo e armazena-lo como um DataFrame do Pandas\n",
    "url = 'https://raw.githubusercontent.com/Angelorafaelgarcia/machine_learning-ecommerce_sales_data/main/women_clothing_ecommerce_sales.csv'\n",
    "dataset = pd.read_csv(url)\n",
    "dataset"
   ]
  },
  {
   "cell_type": "code",
   "execution_count": 3,
   "id": "7307d03b",
   "metadata": {},
   "outputs": [
    {
     "data": {
      "text/plain": [
       "(527, 8)"
      ]
     },
     "execution_count": 3,
     "metadata": {},
     "output_type": "execute_result"
    }
   ],
   "source": [
    "# Comando utilizado para verificar a quantidade de linhas e colunas do arquivo\n",
    "# Colunas também são chamadas de variáveis.\n",
    "dataset.shape"
   ]
  },
  {
   "cell_type": "code",
   "execution_count": 4,
   "id": "25ce4ee4",
   "metadata": {},
   "outputs": [
    {
     "data": {
      "text/html": [
       "<div>\n",
       "<style scoped>\n",
       "    .dataframe tbody tr th:only-of-type {\n",
       "        vertical-align: middle;\n",
       "    }\n",
       "\n",
       "    .dataframe tbody tr th {\n",
       "        vertical-align: top;\n",
       "    }\n",
       "\n",
       "    .dataframe thead th {\n",
       "        text-align: right;\n",
       "    }\n",
       "</style>\n",
       "<table border=\"1\" class=\"dataframe\">\n",
       "  <thead>\n",
       "    <tr style=\"text-align: right;\">\n",
       "      <th></th>\n",
       "      <th>order_id</th>\n",
       "      <th>unit_price</th>\n",
       "      <th>quantity</th>\n",
       "      <th>revenue</th>\n",
       "    </tr>\n",
       "  </thead>\n",
       "  <tbody>\n",
       "    <tr>\n",
       "      <th>count</th>\n",
       "      <td>527.000000</td>\n",
       "      <td>527.000000</td>\n",
       "      <td>527.000000</td>\n",
       "      <td>527.000000</td>\n",
       "    </tr>\n",
       "    <tr>\n",
       "      <th>mean</th>\n",
       "      <td>115.313093</td>\n",
       "      <td>274.973435</td>\n",
       "      <td>1.011385</td>\n",
       "      <td>278.024668</td>\n",
       "    </tr>\n",
       "    <tr>\n",
       "      <th>std</th>\n",
       "      <td>73.106716</td>\n",
       "      <td>34.517412</td>\n",
       "      <td>0.106193</td>\n",
       "      <td>44.741095</td>\n",
       "    </tr>\n",
       "    <tr>\n",
       "      <th>min</th>\n",
       "      <td>1.000000</td>\n",
       "      <td>191.000000</td>\n",
       "      <td>1.000000</td>\n",
       "      <td>191.000000</td>\n",
       "    </tr>\n",
       "    <tr>\n",
       "      <th>25%</th>\n",
       "      <td>54.000000</td>\n",
       "      <td>266.000000</td>\n",
       "      <td>1.000000</td>\n",
       "      <td>266.000000</td>\n",
       "    </tr>\n",
       "    <tr>\n",
       "      <th>50%</th>\n",
       "      <td>110.000000</td>\n",
       "      <td>278.000000</td>\n",
       "      <td>1.000000</td>\n",
       "      <td>278.000000</td>\n",
       "    </tr>\n",
       "    <tr>\n",
       "      <th>75%</th>\n",
       "      <td>166.000000</td>\n",
       "      <td>288.000000</td>\n",
       "      <td>1.000000</td>\n",
       "      <td>288.000000</td>\n",
       "    </tr>\n",
       "    <tr>\n",
       "      <th>max</th>\n",
       "      <td>273.000000</td>\n",
       "      <td>899.000000</td>\n",
       "      <td>2.000000</td>\n",
       "      <td>899.000000</td>\n",
       "    </tr>\n",
       "  </tbody>\n",
       "</table>\n",
       "</div>"
      ],
      "text/plain": [
       "         order_id  unit_price    quantity     revenue\n",
       "count  527.000000  527.000000  527.000000  527.000000\n",
       "mean   115.313093  274.973435    1.011385  278.024668\n",
       "std     73.106716   34.517412    0.106193   44.741095\n",
       "min      1.000000  191.000000    1.000000  191.000000\n",
       "25%     54.000000  266.000000    1.000000  266.000000\n",
       "50%    110.000000  278.000000    1.000000  278.000000\n",
       "75%    166.000000  288.000000    1.000000  288.000000\n",
       "max    273.000000  899.000000    2.000000  899.000000"
      ]
     },
     "execution_count": 4,
     "metadata": {},
     "output_type": "execute_result"
    }
   ],
   "source": [
    "dataset.describe()"
   ]
  },
  {
   "cell_type": "code",
   "execution_count": 5,
   "id": "30c50d58",
   "metadata": {},
   "outputs": [
    {
     "name": "stdout",
     "output_type": "stream",
     "text": [
      "<class 'pandas.core.frame.DataFrame'>\n",
      "RangeIndex: 527 entries, 0 to 526\n",
      "Data columns (total 8 columns):\n",
      " #   Column      Non-Null Count  Dtype \n",
      "---  ------      --------------  ----- \n",
      " 0   order_id    527 non-null    int64 \n",
      " 1   order_date  527 non-null    object\n",
      " 2   sku         527 non-null    object\n",
      " 3   color       527 non-null    object\n",
      " 4   size        490 non-null    object\n",
      " 5   unit_price  527 non-null    int64 \n",
      " 6   quantity    527 non-null    int64 \n",
      " 7   revenue     527 non-null    int64 \n",
      "dtypes: int64(4), object(4)\n",
      "memory usage: 33.1+ KB\n"
     ]
    }
   ],
   "source": [
    "# Comando utilizado para verificar informações sobre os dados(Tipo de variáveis, Variáveis, Quantidade de registros, etc)\n",
    "# Neste caso a variavel order_date, deve ser do tipo Date e as variaveis unit_price e revenue do tipo Float.\n",
    "# Precisamos tratar essas variáveis.\n",
    "dataset.info()"
   ]
  },
  {
   "cell_type": "code",
   "execution_count": 6,
   "id": "ab720500",
   "metadata": {},
   "outputs": [
    {
     "data": {
      "text/plain": [
       "order_id       0\n",
       "order_date     0\n",
       "sku            0\n",
       "color          0\n",
       "size          37\n",
       "unit_price     0\n",
       "quantity       0\n",
       "revenue        0\n",
       "dtype: int64"
      ]
     },
     "execution_count": 6,
     "metadata": {},
     "output_type": "execute_result"
    }
   ],
   "source": [
    "# Verificar os nulos do dataset de forma direta:\n",
    "# Há 37 valores nulos na coluna 'size', não irei tratá-los, mas é possível fazer algum tipo de tratamento com eles, como por exemplo retira-los do dataframe dependendo da quantidade de dados existentes ou aplicar uma média.\n",
    "dataset.isnull().sum()"
   ]
  },
  {
   "cell_type": "markdown",
   "id": "633cd339",
   "metadata": {},
   "source": [
    "Exemplos de como resolver os valores vazios:\n",
    "\n",
    "Caso existisse algum valor 'vazio/none' aqui, poderíamos resolver de duas formas.\n",
    "\n",
    "A primeira forma seria excluir todo o registro, mas estariamos perdendo dados.\n",
    "data.drop(data.loc[data['unit_price']=='SEM VALOR'].index, inplace=True)\n",
    "\n",
    "A segunda forma seria verificar o valor médio ou da mediana deste modelo e substituir a palavra SEM VALOR para um valor médio.\n",
    "data.loc[data['unit_price'] == 'SEM VALOR']\n",
    "\n",
    "Logo após substituiriamos a palavra SEM VALOR pelo valor ZERO\n",
    "data.loc[(data['unit_price'] == 'SEM VALOR'), 'VALOR'] = 0"
   ]
  },
  {
   "cell_type": "code",
   "execution_count": 7,
   "id": "2026bcc1",
   "metadata": {},
   "outputs": [],
   "source": [
    "# Em seguida convertemos a coluna unit_price de int64 em float64\n",
    "dataset['unit_price'] = dataset['unit_price'].astype(np.float64)"
   ]
  },
  {
   "cell_type": "code",
   "execution_count": 8,
   "id": "a35c3767",
   "metadata": {},
   "outputs": [],
   "source": [
    "# Em seguida convertemos o campo em float\n",
    "dataset['revenue'] = dataset['revenue'].astype(np.float64)"
   ]
  },
  {
   "cell_type": "code",
   "execution_count": 9,
   "id": "de71b0f8",
   "metadata": {},
   "outputs": [],
   "source": [
    "# Convert order_date to datetime format\n",
    "dataset['order_date'] = pd.to_datetime(dataset['order_date'])"
   ]
  },
  {
   "cell_type": "code",
   "execution_count": 10,
   "id": "983c8073",
   "metadata": {},
   "outputs": [
    {
     "name": "stdout",
     "output_type": "stream",
     "text": [
      "<class 'pandas.core.frame.DataFrame'>\n",
      "RangeIndex: 527 entries, 0 to 526\n",
      "Data columns (total 8 columns):\n",
      " #   Column      Non-Null Count  Dtype         \n",
      "---  ------      --------------  -----         \n",
      " 0   order_id    527 non-null    int64         \n",
      " 1   order_date  527 non-null    datetime64[ns]\n",
      " 2   sku         527 non-null    object        \n",
      " 3   color       527 non-null    object        \n",
      " 4   size        490 non-null    object        \n",
      " 5   unit_price  527 non-null    float64       \n",
      " 6   quantity    527 non-null    int64         \n",
      " 7   revenue     527 non-null    float64       \n",
      "dtypes: datetime64[ns](1), float64(2), int64(2), object(3)\n",
      "memory usage: 33.1+ KB\n"
     ]
    }
   ],
   "source": [
    "# daremos um novo info para verificar se as colunas foram tratadas\n",
    "dataset.info()"
   ]
  },
  {
   "cell_type": "code",
   "execution_count": 11,
   "id": "62874283",
   "metadata": {},
   "outputs": [
    {
     "data": {
      "text/html": [
       "<div>\n",
       "<style scoped>\n",
       "    .dataframe tbody tr th:only-of-type {\n",
       "        vertical-align: middle;\n",
       "    }\n",
       "\n",
       "    .dataframe tbody tr th {\n",
       "        vertical-align: top;\n",
       "    }\n",
       "\n",
       "    .dataframe thead th {\n",
       "        text-align: right;\n",
       "    }\n",
       "</style>\n",
       "<table border=\"1\" class=\"dataframe\">\n",
       "  <thead>\n",
       "    <tr style=\"text-align: right;\">\n",
       "      <th></th>\n",
       "      <th>order_id</th>\n",
       "      <th>order_date</th>\n",
       "      <th>sku</th>\n",
       "      <th>color</th>\n",
       "      <th>size</th>\n",
       "      <th>unit_price</th>\n",
       "      <th>quantity</th>\n",
       "      <th>revenue</th>\n",
       "    </tr>\n",
       "  </thead>\n",
       "  <tbody>\n",
       "    <tr>\n",
       "      <th>0</th>\n",
       "      <td>1</td>\n",
       "      <td>2022-06-01 16:05:00</td>\n",
       "      <td>708</td>\n",
       "      <td>Dark Blue</td>\n",
       "      <td>2XL</td>\n",
       "      <td>298.0</td>\n",
       "      <td>1</td>\n",
       "      <td>298.0</td>\n",
       "    </tr>\n",
       "    <tr>\n",
       "      <th>1</th>\n",
       "      <td>1</td>\n",
       "      <td>2022-06-01 16:05:00</td>\n",
       "      <td>89</td>\n",
       "      <td>Dark Blue</td>\n",
       "      <td>2XL</td>\n",
       "      <td>258.0</td>\n",
       "      <td>1</td>\n",
       "      <td>258.0</td>\n",
       "    </tr>\n",
       "    <tr>\n",
       "      <th>2</th>\n",
       "      <td>2</td>\n",
       "      <td>2022-06-10 17:03:00</td>\n",
       "      <td>bobo</td>\n",
       "      <td>Cream</td>\n",
       "      <td>One Size</td>\n",
       "      <td>228.0</td>\n",
       "      <td>1</td>\n",
       "      <td>228.0</td>\n",
       "    </tr>\n",
       "    <tr>\n",
       "      <th>3</th>\n",
       "      <td>3</td>\n",
       "      <td>2022-06-10 19:59:00</td>\n",
       "      <td>799</td>\n",
       "      <td>Dark Blue</td>\n",
       "      <td>XL</td>\n",
       "      <td>264.0</td>\n",
       "      <td>1</td>\n",
       "      <td>264.0</td>\n",
       "    </tr>\n",
       "    <tr>\n",
       "      <th>4</th>\n",
       "      <td>4</td>\n",
       "      <td>2022-06-11 11:42:00</td>\n",
       "      <td>799</td>\n",
       "      <td>Dark Blue</td>\n",
       "      <td>M</td>\n",
       "      <td>264.0</td>\n",
       "      <td>1</td>\n",
       "      <td>264.0</td>\n",
       "    </tr>\n",
       "  </tbody>\n",
       "</table>\n",
       "</div>"
      ],
      "text/plain": [
       "   order_id          order_date   sku      color      size  unit_price  \\\n",
       "0         1 2022-06-01 16:05:00   708  Dark Blue       2XL       298.0   \n",
       "1         1 2022-06-01 16:05:00    89  Dark Blue       2XL       258.0   \n",
       "2         2 2022-06-10 17:03:00  bobo      Cream  One Size       228.0   \n",
       "3         3 2022-06-10 19:59:00   799  Dark Blue        XL       264.0   \n",
       "4         4 2022-06-11 11:42:00   799  Dark Blue         M       264.0   \n",
       "\n",
       "   quantity  revenue  \n",
       "0         1    298.0  \n",
       "1         1    258.0  \n",
       "2         1    228.0  \n",
       "3         1    264.0  \n",
       "4         1    264.0  "
      ]
     },
     "execution_count": 11,
     "metadata": {},
     "output_type": "execute_result"
    }
   ],
   "source": [
    "# Comando utilizado para verificar as linhas iniciais do DataFrame\n",
    "dataset.head()"
   ]
  },
  {
   "cell_type": "code",
   "execution_count": 12,
   "id": "8128be75",
   "metadata": {},
   "outputs": [
    {
     "data": {
      "text/html": [
       "<div>\n",
       "<style scoped>\n",
       "    .dataframe tbody tr th:only-of-type {\n",
       "        vertical-align: middle;\n",
       "    }\n",
       "\n",
       "    .dataframe tbody tr th {\n",
       "        vertical-align: top;\n",
       "    }\n",
       "\n",
       "    .dataframe thead th {\n",
       "        text-align: right;\n",
       "    }\n",
       "</style>\n",
       "<table border=\"1\" class=\"dataframe\">\n",
       "  <thead>\n",
       "    <tr style=\"text-align: right;\">\n",
       "      <th></th>\n",
       "      <th>order_id</th>\n",
       "      <th>order_date</th>\n",
       "      <th>sku</th>\n",
       "      <th>color</th>\n",
       "      <th>size</th>\n",
       "      <th>unit_price</th>\n",
       "      <th>quantity</th>\n",
       "      <th>revenue</th>\n",
       "    </tr>\n",
       "  </thead>\n",
       "  <tbody>\n",
       "    <tr>\n",
       "      <th>522</th>\n",
       "      <td>171</td>\n",
       "      <td>2022-09-09 06:27:00</td>\n",
       "      <td>799</td>\n",
       "      <td>Dark Blue</td>\n",
       "      <td>M</td>\n",
       "      <td>265.0</td>\n",
       "      <td>1</td>\n",
       "      <td>265.0</td>\n",
       "    </tr>\n",
       "    <tr>\n",
       "      <th>523</th>\n",
       "      <td>172</td>\n",
       "      <td>2022-09-09 07:18:00</td>\n",
       "      <td>708</td>\n",
       "      <td>Dark Blue</td>\n",
       "      <td>4XL</td>\n",
       "      <td>278.0</td>\n",
       "      <td>1</td>\n",
       "      <td>278.0</td>\n",
       "    </tr>\n",
       "    <tr>\n",
       "      <th>524</th>\n",
       "      <td>173</td>\n",
       "      <td>2022-09-09 07:22:00</td>\n",
       "      <td>799</td>\n",
       "      <td>Dark Blue</td>\n",
       "      <td>M</td>\n",
       "      <td>265.0</td>\n",
       "      <td>1</td>\n",
       "      <td>265.0</td>\n",
       "    </tr>\n",
       "    <tr>\n",
       "      <th>525</th>\n",
       "      <td>174</td>\n",
       "      <td>2022-09-09 08:25:00</td>\n",
       "      <td>799</td>\n",
       "      <td>Dark Blue</td>\n",
       "      <td>L</td>\n",
       "      <td>265.0</td>\n",
       "      <td>1</td>\n",
       "      <td>265.0</td>\n",
       "    </tr>\n",
       "    <tr>\n",
       "      <th>526</th>\n",
       "      <td>175</td>\n",
       "      <td>2022-09-09 09:47:00</td>\n",
       "      <td>799</td>\n",
       "      <td>Dark Blue</td>\n",
       "      <td>XL</td>\n",
       "      <td>265.0</td>\n",
       "      <td>1</td>\n",
       "      <td>265.0</td>\n",
       "    </tr>\n",
       "  </tbody>\n",
       "</table>\n",
       "</div>"
      ],
      "text/plain": [
       "     order_id          order_date  sku      color size  unit_price  quantity  \\\n",
       "522       171 2022-09-09 06:27:00  799  Dark Blue    M       265.0         1   \n",
       "523       172 2022-09-09 07:18:00  708  Dark Blue  4XL       278.0         1   \n",
       "524       173 2022-09-09 07:22:00  799  Dark Blue    M       265.0         1   \n",
       "525       174 2022-09-09 08:25:00  799  Dark Blue    L       265.0         1   \n",
       "526       175 2022-09-09 09:47:00  799  Dark Blue   XL       265.0         1   \n",
       "\n",
       "     revenue  \n",
       "522    265.0  \n",
       "523    278.0  \n",
       "524    265.0  \n",
       "525    265.0  \n",
       "526    265.0  "
      ]
     },
     "execution_count": 12,
     "metadata": {},
     "output_type": "execute_result"
    }
   ],
   "source": [
    "# Comando utilizado para verificar as linhas finais do DataFrame\n",
    "dataset.tail()"
   ]
  },
  {
   "cell_type": "code",
   "execution_count": 13,
   "id": "0ff08602",
   "metadata": {},
   "outputs": [
    {
     "name": "stdout",
     "output_type": "stream",
     "text": [
      "Período dos dados - De: 2022-06-01 Até: 2022-09-30\n"
     ]
    }
   ],
   "source": [
    "# Avaliar o período dos dados coletados\n",
    "inicio = pd.to_datetime(dataset['order_date']).dt.date.min()\n",
    "fim = pd.to_datetime(dataset['order_date']).dt.date.max()\n",
    "print('Período dos dados - De:', inicio, 'Até:',fim)"
   ]
  },
  {
   "cell_type": "code",
   "execution_count": 14,
   "id": "941ab0f9",
   "metadata": {},
   "outputs": [
    {
     "data": {
      "text/plain": [
       "unit_price\n",
       "191.0      6\n",
       "198.0      5\n",
       "206.0      1\n",
       "207.0      2\n",
       "223.0      1\n",
       "227.0      1\n",
       "228.0      9\n",
       "232.0      2\n",
       "238.0      5\n",
       "239.0      9\n",
       "245.0      5\n",
       "246.0      1\n",
       "248.0      3\n",
       "249.0      3\n",
       "254.0      2\n",
       "255.0      1\n",
       "258.0     21\n",
       "259.0      1\n",
       "264.0     20\n",
       "265.0     23\n",
       "266.0     81\n",
       "268.0     17\n",
       "269.0     20\n",
       "275.0     10\n",
       "277.0      1\n",
       "278.0     70\n",
       "286.0      2\n",
       "287.0      6\n",
       "288.0    134\n",
       "296.0      5\n",
       "297.0      1\n",
       "298.0     44\n",
       "315.0      8\n",
       "318.0      6\n",
       "899.0      1\n",
       "dtype: int64"
      ]
     },
     "execution_count": 14,
     "metadata": {},
     "output_type": "execute_result"
    }
   ],
   "source": [
    "# Dessa forma podemos agrupar os valores e identificar se há algum valor discrepante.\n",
    "# Observe que não há nenhum valor que foi inserido como \"SEM VALOR\"\n",
    "dataset.groupby(['unit_price']).size()"
   ]
  },
  {
   "cell_type": "code",
   "execution_count": 15,
   "id": "28739313",
   "metadata": {},
   "outputs": [
    {
     "name": "stdout",
     "output_type": "stream",
     "text": [
      "order_id : int64\n",
      "unit_price : float64\n",
      "quantity : int64\n",
      "revenue : float64\n"
     ]
    }
   ],
   "source": [
    "# Agora iremos avaliar os outliers das colunas que são númericas\n",
    "# OUTLIERS são valores discrepantes que estão bem acima ou bem abaixo dos outros valores\n",
    "\n",
    "# Vamos carregar em uma lista as variaveis que são do tipo INT64 E FLOAT64\n",
    "variaveis_numericas = []\n",
    "for i in dataset.columns[0:8].tolist():\n",
    "        if dataset.dtypes[i] == 'int64' or dataset.dtypes[i] == 'float64':            \n",
    "            print(i, ':' , dataset.dtypes[i]) \n",
    "            variaveis_numericas.append(i)"
   ]
  },
  {
   "cell_type": "code",
   "execution_count": 16,
   "id": "4ba244fa",
   "metadata": {},
   "outputs": [
    {
     "data": {
      "text/plain": [
       "['order_id', 'unit_price', 'quantity', 'revenue']"
      ]
     },
     "execution_count": 16,
     "metadata": {},
     "output_type": "execute_result"
    }
   ],
   "source": [
    "# Vamos observar a lista de variáveis e avaliar se nestas variáveis temos outliers através de um boxplot\n",
    "variaveis_numericas"
   ]
  },
  {
   "cell_type": "code",
   "execution_count": 17,
   "id": "f3bc84ad",
   "metadata": {},
   "outputs": [
    {
     "data": {
      "image/png": "[encoded data removed]",
      "text/plain": [
       "<Figure size 640x480 with 1 Axes>"
      ]
     },
     "metadata": {},
     "output_type": "display_data"
    }
   ],
   "source": [
    "# Boxplots\n",
    "# Boxplot é utilizado para avaliar e comparar o formato, tendência central e variabilidade de distribuições de amostra, \n",
    "# e para procurar por outliers. Por padrão, um boxplot demonstra a mediana, os quartis, \n",
    "# o intervalo interquartil(IQR) e outliers para cada variável. \n",
    "\n",
    "# Outlier são valores que estão bem discrepantes dentro do conjunto de dados, podem ser para mais ou para menos. \n",
    "# Observe nos DOIS ULTIMOS boxplot que há os pontinhos acima das linhas. Esses valores são outliers\n",
    "\n",
    "dataset.boxplot(column = ['unit_price', 'quantity', 'revenue'])\n",
    "plt.rcParams[\"figure.figsize\"] = [6.00, 6.00]\n",
    "plt.rcParams[\"figure.autolayout\"] = True\n",
    "plt.show()\n",
    "\n",
    "# PRECISO ESTUDAR MAIS O BLOXPLOT!"
   ]
  },
  {
   "cell_type": "markdown",
   "id": "ea25e5d1",
   "metadata": {},
   "source": [
    "\n",
    "\n",
    "\n",
    "\n",
    "Segue abaixo alguns insigths relacionados a estoque e logo abaixo as vendas!\n"
   ]
  },
  {
   "cell_type": "code",
   "execution_count": 18,
   "id": "78c6b81e",
   "metadata": {},
   "outputs": [
    {
     "data": {
      "text/html": [
       "<div>\n",
       "<style scoped>\n",
       "    .dataframe tbody tr th:only-of-type {\n",
       "        vertical-align: middle;\n",
       "    }\n",
       "\n",
       "    .dataframe tbody tr th {\n",
       "        vertical-align: top;\n",
       "    }\n",
       "\n",
       "    .dataframe thead th {\n",
       "        text-align: right;\n",
       "    }\n",
       "</style>\n",
       "<table border=\"1\" class=\"dataframe\">\n",
       "  <thead>\n",
       "    <tr style=\"text-align: right;\">\n",
       "      <th></th>\n",
       "      <th>quantity</th>\n",
       "    </tr>\n",
       "    <tr>\n",
       "      <th>color</th>\n",
       "      <th></th>\n",
       "    </tr>\n",
       "  </thead>\n",
       "  <tbody>\n",
       "    <tr>\n",
       "      <th>Dark Blue</th>\n",
       "      <td>401</td>\n",
       "    </tr>\n",
       "    <tr>\n",
       "      <th>Light Blue</th>\n",
       "      <td>26</td>\n",
       "    </tr>\n",
       "    <tr>\n",
       "      <th>Black</th>\n",
       "      <td>15</td>\n",
       "    </tr>\n",
       "    <tr>\n",
       "      <th>Grey Wash</th>\n",
       "      <td>9</td>\n",
       "    </tr>\n",
       "    <tr>\n",
       "      <th>Mid Wash</th>\n",
       "      <td>8</td>\n",
       "    </tr>\n",
       "    <tr>\n",
       "      <th>Navy Blue</th>\n",
       "      <td>7</td>\n",
       "    </tr>\n",
       "    <tr>\n",
       "      <th>B</th>\n",
       "      <td>6</td>\n",
       "    </tr>\n",
       "    <tr>\n",
       "      <th>Dark Wash</th>\n",
       "      <td>5</td>\n",
       "    </tr>\n",
       "    <tr>\n",
       "      <th>Blue</th>\n",
       "      <td>4</td>\n",
       "    </tr>\n",
       "    <tr>\n",
       "      <th>C</th>\n",
       "      <td>4</td>\n",
       "    </tr>\n",
       "    <tr>\n",
       "      <th>Cream</th>\n",
       "      <td>3</td>\n",
       "    </tr>\n",
       "    <tr>\n",
       "      <th>Brown</th>\n",
       "      <td>3</td>\n",
       "    </tr>\n",
       "    <tr>\n",
       "      <th>Rust</th>\n",
       "      <td>3</td>\n",
       "    </tr>\n",
       "    <tr>\n",
       "      <th>Thin Blue</th>\n",
       "      <td>3</td>\n",
       "    </tr>\n",
       "    <tr>\n",
       "      <th>A</th>\n",
       "      <td>3</td>\n",
       "    </tr>\n",
       "    <tr>\n",
       "      <th>White</th>\n",
       "      <td>3</td>\n",
       "    </tr>\n",
       "    <tr>\n",
       "      <th>Gray</th>\n",
       "      <td>3</td>\n",
       "    </tr>\n",
       "    <tr>\n",
       "      <th>Matcha</th>\n",
       "      <td>2</td>\n",
       "    </tr>\n",
       "    <tr>\n",
       "      <th>Green</th>\n",
       "      <td>2</td>\n",
       "    </tr>\n",
       "    <tr>\n",
       "      <th>D</th>\n",
       "      <td>2</td>\n",
       "    </tr>\n",
       "    <tr>\n",
       "      <th>Blue Stripes</th>\n",
       "      <td>2</td>\n",
       "    </tr>\n",
       "    <tr>\n",
       "      <th>Midnight Blue</th>\n",
       "      <td>2</td>\n",
       "    </tr>\n",
       "    <tr>\n",
       "      <th>Red Orange</th>\n",
       "      <td>1</td>\n",
       "    </tr>\n",
       "    <tr>\n",
       "      <th>Skintone</th>\n",
       "      <td>1</td>\n",
       "    </tr>\n",
       "    <tr>\n",
       "      <th>Mocha</th>\n",
       "      <td>1</td>\n",
       "    </tr>\n",
       "    <tr>\n",
       "      <th>Pink</th>\n",
       "      <td>1</td>\n",
       "    </tr>\n",
       "    <tr>\n",
       "      <th>Mustard</th>\n",
       "      <td>1</td>\n",
       "    </tr>\n",
       "    <tr>\n",
       "      <th>Thin Black</th>\n",
       "      <td>1</td>\n",
       "    </tr>\n",
       "    <tr>\n",
       "      <th>920 Navy blue</th>\n",
       "      <td>1</td>\n",
       "    </tr>\n",
       "    <tr>\n",
       "      <th>Maroon</th>\n",
       "      <td>1</td>\n",
       "    </tr>\n",
       "    <tr>\n",
       "      <th>Light Wash</th>\n",
       "      <td>1</td>\n",
       "    </tr>\n",
       "    <tr>\n",
       "      <th>Light Gray</th>\n",
       "      <td>1</td>\n",
       "    </tr>\n",
       "    <tr>\n",
       "      <th>922 Army green</th>\n",
       "      <td>1</td>\n",
       "    </tr>\n",
       "    <tr>\n",
       "      <th>Gray Stripes</th>\n",
       "      <td>1</td>\n",
       "    </tr>\n",
       "    <tr>\n",
       "      <th>E</th>\n",
       "      <td>1</td>\n",
       "    </tr>\n",
       "    <tr>\n",
       "      <th>Cornflower Blue</th>\n",
       "      <td>1</td>\n",
       "    </tr>\n",
       "    <tr>\n",
       "      <th>Black Stripes</th>\n",
       "      <td>1</td>\n",
       "    </tr>\n",
       "    <tr>\n",
       "      <th>922 Black</th>\n",
       "      <td>1</td>\n",
       "    </tr>\n",
       "    <tr>\n",
       "      <th>Yellow</th>\n",
       "      <td>1</td>\n",
       "    </tr>\n",
       "  </tbody>\n",
       "</table>\n",
       "</div>"
      ],
      "text/plain": [
       "                 quantity\n",
       "color                    \n",
       "Dark Blue             401\n",
       "Light Blue             26\n",
       "Black                  15\n",
       "Grey Wash               9\n",
       "Mid Wash                8\n",
       "Navy Blue               7\n",
       "B                       6\n",
       "Dark Wash               5\n",
       "Blue                    4\n",
       "C                       4\n",
       "Cream                   3\n",
       "Brown                   3\n",
       "Rust                    3\n",
       "Thin Blue               3\n",
       "A                       3\n",
       "White                   3\n",
       "Gray                    3\n",
       "Matcha                  2\n",
       "Green                   2\n",
       "D                       2\n",
       "Blue Stripes            2\n",
       "Midnight Blue           2\n",
       "Red Orange              1\n",
       "Skintone                1\n",
       "Mocha                   1\n",
       "Pink                    1\n",
       "Mustard                 1\n",
       "Thin Black              1\n",
       "920 Navy blue           1\n",
       "Maroon                  1\n",
       "Light Wash              1\n",
       "Light Gray              1\n",
       "922 Army green          1\n",
       "Gray Stripes            1\n",
       "E                       1\n",
       "Cornflower Blue         1\n",
       "Black Stripes           1\n",
       "922 Black               1\n",
       "Yellow                  1"
      ]
     },
     "execution_count": 18,
     "metadata": {},
     "output_type": "execute_result"
    }
   ],
   "source": [
    "# Comando usado para mostrar a quantidade de roupas por cor \n",
    "dataset[['color','quantity']].groupby(['color']).sum().sort_values(by = 'quantity' , ascending = False)"
   ]
  },
  {
   "cell_type": "code",
   "execution_count": 19,
   "id": "6f54c63a",
   "metadata": {},
   "outputs": [
    {
     "data": {
      "image/png": "[encoded data removed]",
      "text/plain": [
       "<Figure size 600x600 with 1 Axes>"
      ]
     },
     "metadata": {},
     "output_type": "display_data"
    }
   ],
   "source": [
    "# Baseado no comando anterior para mostrar a quantidade de roupas por cor agora em gráfico\n",
    "bars = dataset[['color','quantity']].groupby(['color']).sum().sort_values(by = 'quantity' , ascending = False) #grouping the data column and summing the quantity\n",
    "bars.plot(kind='bar',log=True, color='#f1916d')    #assuming the y axis as logarithmic scale (#f1916d)\n",
    "plt.title('Quantidade de roupas por cor')\n",
    "plt.show()"
   ]
  },
  {
   "cell_type": "code",
   "execution_count": 20,
   "id": "c85d6e2d",
   "metadata": {},
   "outputs": [
    {
     "data": {
      "text/plain": [
       "size\n",
       "XL          164\n",
       "M            92\n",
       "L            91\n",
       "One Size     45\n",
       "2XL          43\n",
       "3XL          40\n",
       "4XL           9\n",
       "One SIze      5\n",
       "S             1\n",
       "Name: count, dtype: int64"
      ]
     },
     "execution_count": 20,
     "metadata": {},
     "output_type": "execute_result"
    }
   ],
   "source": [
    "# Comando usado para mostrar a quantidade de roupas por tamanho \n",
    "dataset['size'].value_counts()"
   ]
  },
  {
   "cell_type": "code",
   "execution_count": 21,
   "id": "1a0b4040",
   "metadata": {},
   "outputs": [
    {
     "data": {
      "image/png": "[encoded data removed]",
      "text/plain": [
       "<Figure size 600x600 with 1 Axes>"
      ]
     },
     "metadata": {},
     "output_type": "display_data"
    }
   ],
   "source": [
    "# Baseado no comando anterior para mostrar a quantidade de roupas por tamanho agora em gráfico\n",
    "bars = dataset[['size','quantity']].groupby(['size']).sum().sort_values(by = 'quantity' , ascending = False)\n",
    "bars.plot(kind='bar',color = '#f1916d')\n",
    "plt.title('Quantidade de roupas por tamanho')\n",
    "plt.show()"
   ]
  },
  {
   "cell_type": "markdown",
   "id": "2fd085ba",
   "metadata": {},
   "source": [
    "\n",
    "Aqui se inicia as analises visando a receita!\n"
   ]
  },
  {
   "cell_type": "code",
   "execution_count": 22,
   "id": "d8d5c106",
   "metadata": {},
   "outputs": [
    {
     "data": {
      "text/html": [
       "<div>\n",
       "<style scoped>\n",
       "    .dataframe tbody tr th:only-of-type {\n",
       "        vertical-align: middle;\n",
       "    }\n",
       "\n",
       "    .dataframe tbody tr th {\n",
       "        vertical-align: top;\n",
       "    }\n",
       "\n",
       "    .dataframe thead th {\n",
       "        text-align: right;\n",
       "    }\n",
       "</style>\n",
       "<table border=\"1\" class=\"dataframe\">\n",
       "  <thead>\n",
       "    <tr style=\"text-align: right;\">\n",
       "      <th></th>\n",
       "      <th>quantity</th>\n",
       "    </tr>\n",
       "    <tr>\n",
       "      <th>unit_price</th>\n",
       "      <th></th>\n",
       "    </tr>\n",
       "  </thead>\n",
       "  <tbody>\n",
       "    <tr>\n",
       "      <th>288.0</th>\n",
       "      <td>138</td>\n",
       "    </tr>\n",
       "    <tr>\n",
       "      <th>266.0</th>\n",
       "      <td>81</td>\n",
       "    </tr>\n",
       "    <tr>\n",
       "      <th>278.0</th>\n",
       "      <td>70</td>\n",
       "    </tr>\n",
       "    <tr>\n",
       "      <th>298.0</th>\n",
       "      <td>44</td>\n",
       "    </tr>\n",
       "    <tr>\n",
       "      <th>265.0</th>\n",
       "      <td>24</td>\n",
       "    </tr>\n",
       "    <tr>\n",
       "      <th>258.0</th>\n",
       "      <td>21</td>\n",
       "    </tr>\n",
       "    <tr>\n",
       "      <th>264.0</th>\n",
       "      <td>20</td>\n",
       "    </tr>\n",
       "    <tr>\n",
       "      <th>269.0</th>\n",
       "      <td>20</td>\n",
       "    </tr>\n",
       "    <tr>\n",
       "      <th>268.0</th>\n",
       "      <td>17</td>\n",
       "    </tr>\n",
       "    <tr>\n",
       "      <th>275.0</th>\n",
       "      <td>10</td>\n",
       "    </tr>\n",
       "    <tr>\n",
       "      <th>228.0</th>\n",
       "      <td>9</td>\n",
       "    </tr>\n",
       "    <tr>\n",
       "      <th>239.0</th>\n",
       "      <td>9</td>\n",
       "    </tr>\n",
       "    <tr>\n",
       "      <th>315.0</th>\n",
       "      <td>8</td>\n",
       "    </tr>\n",
       "    <tr>\n",
       "      <th>191.0</th>\n",
       "      <td>7</td>\n",
       "    </tr>\n",
       "    <tr>\n",
       "      <th>287.0</th>\n",
       "      <td>6</td>\n",
       "    </tr>\n",
       "    <tr>\n",
       "      <th>318.0</th>\n",
       "      <td>6</td>\n",
       "    </tr>\n",
       "    <tr>\n",
       "      <th>296.0</th>\n",
       "      <td>5</td>\n",
       "    </tr>\n",
       "    <tr>\n",
       "      <th>238.0</th>\n",
       "      <td>5</td>\n",
       "    </tr>\n",
       "    <tr>\n",
       "      <th>198.0</th>\n",
       "      <td>5</td>\n",
       "    </tr>\n",
       "    <tr>\n",
       "      <th>245.0</th>\n",
       "      <td>5</td>\n",
       "    </tr>\n",
       "    <tr>\n",
       "      <th>249.0</th>\n",
       "      <td>3</td>\n",
       "    </tr>\n",
       "    <tr>\n",
       "      <th>248.0</th>\n",
       "      <td>3</td>\n",
       "    </tr>\n",
       "    <tr>\n",
       "      <th>254.0</th>\n",
       "      <td>2</td>\n",
       "    </tr>\n",
       "    <tr>\n",
       "      <th>232.0</th>\n",
       "      <td>2</td>\n",
       "    </tr>\n",
       "    <tr>\n",
       "      <th>207.0</th>\n",
       "      <td>2</td>\n",
       "    </tr>\n",
       "    <tr>\n",
       "      <th>286.0</th>\n",
       "      <td>2</td>\n",
       "    </tr>\n",
       "    <tr>\n",
       "      <th>297.0</th>\n",
       "      <td>1</td>\n",
       "    </tr>\n",
       "    <tr>\n",
       "      <th>259.0</th>\n",
       "      <td>1</td>\n",
       "    </tr>\n",
       "    <tr>\n",
       "      <th>277.0</th>\n",
       "      <td>1</td>\n",
       "    </tr>\n",
       "    <tr>\n",
       "      <th>255.0</th>\n",
       "      <td>1</td>\n",
       "    </tr>\n",
       "    <tr>\n",
       "      <th>246.0</th>\n",
       "      <td>1</td>\n",
       "    </tr>\n",
       "    <tr>\n",
       "      <th>227.0</th>\n",
       "      <td>1</td>\n",
       "    </tr>\n",
       "    <tr>\n",
       "      <th>223.0</th>\n",
       "      <td>1</td>\n",
       "    </tr>\n",
       "    <tr>\n",
       "      <th>206.0</th>\n",
       "      <td>1</td>\n",
       "    </tr>\n",
       "    <tr>\n",
       "      <th>899.0</th>\n",
       "      <td>1</td>\n",
       "    </tr>\n",
       "  </tbody>\n",
       "</table>\n",
       "</div>"
      ],
      "text/plain": [
       "            quantity\n",
       "unit_price          \n",
       "288.0            138\n",
       "266.0             81\n",
       "278.0             70\n",
       "298.0             44\n",
       "265.0             24\n",
       "258.0             21\n",
       "264.0             20\n",
       "269.0             20\n",
       "268.0             17\n",
       "275.0             10\n",
       "228.0              9\n",
       "239.0              9\n",
       "315.0              8\n",
       "191.0              7\n",
       "287.0              6\n",
       "318.0              6\n",
       "296.0              5\n",
       "238.0              5\n",
       "198.0              5\n",
       "245.0              5\n",
       "249.0              3\n",
       "248.0              3\n",
       "254.0              2\n",
       "232.0              2\n",
       "207.0              2\n",
       "286.0              2\n",
       "297.0              1\n",
       "259.0              1\n",
       "277.0              1\n",
       "255.0              1\n",
       "246.0              1\n",
       "227.0              1\n",
       "223.0              1\n",
       "206.0              1\n",
       "899.0              1"
      ]
     },
     "execution_count": 22,
     "metadata": {},
     "output_type": "execute_result"
    }
   ],
   "source": [
    "# Comando usado para mostar a distribuição das roupas por preço unitário \n",
    "dataset[['unit_price','quantity']].groupby(['unit_price']).sum().sort_values(by = 'quantity' , ascending = False)"
   ]
  },
  {
   "cell_type": "code",
   "execution_count": 23,
   "id": "c66ea5db",
   "metadata": {},
   "outputs": [
    {
     "data": {
      "image/png": "[encoded data removed]",
      "text/plain": [
       "<Figure size 600x600 with 1 Axes>"
      ]
     },
     "metadata": {},
     "output_type": "display_data"
    }
   ],
   "source": [
    "# Baseado no comando anterior para mostrar a quantidade de roupas por tamanho agora em gráfico\n",
    "sns.histplot(dataset['unit_price'], bins=20, kde=True, color=\"#f1916d\")\n",
    "plt.title('Distribuição de Preços')\n",
    "plt.xlabel('unit_price')\n",
    "plt.ylabel('quantity')\n",
    "plt.show()"
   ]
  },
  {
   "cell_type": "code",
   "execution_count": 24,
   "id": "2ad213a5",
   "metadata": {},
   "outputs": [],
   "source": [
    "# Cria uma nova coluna 'mês' contendo cada pedido\n",
    "dataset['day'] = dataset['order_date'].dt.day\n",
    "dataset['month'] = dataset['order_date'].dt.month\n",
    "dataset['year'] = dataset['order_date'].dt.year"
   ]
  },
  {
   "cell_type": "code",
   "execution_count": 25,
   "id": "d6db26b9",
   "metadata": {},
   "outputs": [
    {
     "data": {
      "text/html": [
       "<div>\n",
       "<style scoped>\n",
       "    .dataframe tbody tr th:only-of-type {\n",
       "        vertical-align: middle;\n",
       "    }\n",
       "\n",
       "    .dataframe tbody tr th {\n",
       "        vertical-align: top;\n",
       "    }\n",
       "\n",
       "    .dataframe thead th {\n",
       "        text-align: right;\n",
       "    }\n",
       "</style>\n",
       "<table border=\"1\" class=\"dataframe\">\n",
       "  <thead>\n",
       "    <tr style=\"text-align: right;\">\n",
       "      <th></th>\n",
       "      <th>order_id</th>\n",
       "      <th>order_date</th>\n",
       "      <th>sku</th>\n",
       "      <th>color</th>\n",
       "      <th>size</th>\n",
       "      <th>unit_price</th>\n",
       "      <th>quantity</th>\n",
       "      <th>revenue</th>\n",
       "      <th>day</th>\n",
       "      <th>month</th>\n",
       "      <th>year</th>\n",
       "    </tr>\n",
       "  </thead>\n",
       "  <tbody>\n",
       "    <tr>\n",
       "      <th>0</th>\n",
       "      <td>1</td>\n",
       "      <td>2022-06-01 16:05:00</td>\n",
       "      <td>708</td>\n",
       "      <td>Dark Blue</td>\n",
       "      <td>2XL</td>\n",
       "      <td>298.0</td>\n",
       "      <td>1</td>\n",
       "      <td>298.0</td>\n",
       "      <td>1</td>\n",
       "      <td>6</td>\n",
       "      <td>2022</td>\n",
       "    </tr>\n",
       "    <tr>\n",
       "      <th>1</th>\n",
       "      <td>1</td>\n",
       "      <td>2022-06-01 16:05:00</td>\n",
       "      <td>89</td>\n",
       "      <td>Dark Blue</td>\n",
       "      <td>2XL</td>\n",
       "      <td>258.0</td>\n",
       "      <td>1</td>\n",
       "      <td>258.0</td>\n",
       "      <td>1</td>\n",
       "      <td>6</td>\n",
       "      <td>2022</td>\n",
       "    </tr>\n",
       "    <tr>\n",
       "      <th>2</th>\n",
       "      <td>2</td>\n",
       "      <td>2022-06-10 17:03:00</td>\n",
       "      <td>bobo</td>\n",
       "      <td>Cream</td>\n",
       "      <td>One Size</td>\n",
       "      <td>228.0</td>\n",
       "      <td>1</td>\n",
       "      <td>228.0</td>\n",
       "      <td>10</td>\n",
       "      <td>6</td>\n",
       "      <td>2022</td>\n",
       "    </tr>\n",
       "    <tr>\n",
       "      <th>3</th>\n",
       "      <td>3</td>\n",
       "      <td>2022-06-10 19:59:00</td>\n",
       "      <td>799</td>\n",
       "      <td>Dark Blue</td>\n",
       "      <td>XL</td>\n",
       "      <td>264.0</td>\n",
       "      <td>1</td>\n",
       "      <td>264.0</td>\n",
       "      <td>10</td>\n",
       "      <td>6</td>\n",
       "      <td>2022</td>\n",
       "    </tr>\n",
       "    <tr>\n",
       "      <th>4</th>\n",
       "      <td>4</td>\n",
       "      <td>2022-06-11 11:42:00</td>\n",
       "      <td>799</td>\n",
       "      <td>Dark Blue</td>\n",
       "      <td>M</td>\n",
       "      <td>264.0</td>\n",
       "      <td>1</td>\n",
       "      <td>264.0</td>\n",
       "      <td>11</td>\n",
       "      <td>6</td>\n",
       "      <td>2022</td>\n",
       "    </tr>\n",
       "  </tbody>\n",
       "</table>\n",
       "</div>"
      ],
      "text/plain": [
       "   order_id          order_date   sku      color      size  unit_price  \\\n",
       "0         1 2022-06-01 16:05:00   708  Dark Blue       2XL       298.0   \n",
       "1         1 2022-06-01 16:05:00    89  Dark Blue       2XL       258.0   \n",
       "2         2 2022-06-10 17:03:00  bobo      Cream  One Size       228.0   \n",
       "3         3 2022-06-10 19:59:00   799  Dark Blue        XL       264.0   \n",
       "4         4 2022-06-11 11:42:00   799  Dark Blue         M       264.0   \n",
       "\n",
       "   quantity  revenue  day  month  year  \n",
       "0         1    298.0    1      6  2022  \n",
       "1         1    258.0    1      6  2022  \n",
       "2         1    228.0   10      6  2022  \n",
       "3         1    264.0   10      6  2022  \n",
       "4         1    264.0   11      6  2022  "
      ]
     },
     "execution_count": 25,
     "metadata": {},
     "output_type": "execute_result"
    }
   ],
   "source": [
    "dataset.head()"
   ]
  },
  {
   "cell_type": "code",
   "execution_count": 26,
   "id": "6e04c010",
   "metadata": {},
   "outputs": [
    {
     "data": {
      "text/html": [
       "<div>\n",
       "<style scoped>\n",
       "    .dataframe tbody tr th:only-of-type {\n",
       "        vertical-align: middle;\n",
       "    }\n",
       "\n",
       "    .dataframe tbody tr th {\n",
       "        vertical-align: top;\n",
       "    }\n",
       "\n",
       "    .dataframe thead th {\n",
       "        text-align: right;\n",
       "    }\n",
       "</style>\n",
       "<table border=\"1\" class=\"dataframe\">\n",
       "  <thead>\n",
       "    <tr style=\"text-align: right;\">\n",
       "      <th></th>\n",
       "      <th>revenue</th>\n",
       "    </tr>\n",
       "    <tr>\n",
       "      <th>sku</th>\n",
       "      <th></th>\n",
       "    </tr>\n",
       "  </thead>\n",
       "  <tbody>\n",
       "    <tr>\n",
       "      <th>799</th>\n",
       "      <td>79182.0</td>\n",
       "    </tr>\n",
       "    <tr>\n",
       "      <th>708</th>\n",
       "      <td>29146.0</td>\n",
       "    </tr>\n",
       "    <tr>\n",
       "      <th>9699</th>\n",
       "      <td>4896.0</td>\n",
       "    </tr>\n",
       "    <tr>\n",
       "      <th>239</th>\n",
       "      <td>4199.0</td>\n",
       "    </tr>\n",
       "    <tr>\n",
       "      <th>77</th>\n",
       "      <td>4055.0</td>\n",
       "    </tr>\n",
       "    <tr>\n",
       "      <th>bobo</th>\n",
       "      <td>3595.0</td>\n",
       "    </tr>\n",
       "    <tr>\n",
       "      <th>89</th>\n",
       "      <td>3341.0</td>\n",
       "    </tr>\n",
       "    <tr>\n",
       "      <th>79</th>\n",
       "      <td>2817.0</td>\n",
       "    </tr>\n",
       "    <tr>\n",
       "      <th>3799</th>\n",
       "      <td>2390.0</td>\n",
       "    </tr>\n",
       "    <tr>\n",
       "      <th>218</th>\n",
       "      <td>2204.0</td>\n",
       "    </tr>\n",
       "    <tr>\n",
       "      <th>1719</th>\n",
       "      <td>2052.0</td>\n",
       "    </tr>\n",
       "    <tr>\n",
       "      <th>61399</th>\n",
       "      <td>1112.0</td>\n",
       "    </tr>\n",
       "    <tr>\n",
       "      <th>339</th>\n",
       "      <td>1084.0</td>\n",
       "    </tr>\n",
       "    <tr>\n",
       "      <th>3081</th>\n",
       "      <td>990.0</td>\n",
       "    </tr>\n",
       "    <tr>\n",
       "      <th>2499</th>\n",
       "      <td>962.0</td>\n",
       "    </tr>\n",
       "    <tr>\n",
       "      <th>897</th>\n",
       "      <td>804.0</td>\n",
       "    </tr>\n",
       "    <tr>\n",
       "      <th>127</th>\n",
       "      <td>714.0</td>\n",
       "    </tr>\n",
       "    <tr>\n",
       "      <th>8499</th>\n",
       "      <td>699.0</td>\n",
       "    </tr>\n",
       "    <tr>\n",
       "      <th>1499</th>\n",
       "      <td>574.0</td>\n",
       "    </tr>\n",
       "    <tr>\n",
       "      <th>539</th>\n",
       "      <td>536.0</td>\n",
       "    </tr>\n",
       "    <tr>\n",
       "      <th>229</th>\n",
       "      <td>414.0</td>\n",
       "    </tr>\n",
       "    <tr>\n",
       "      <th>628</th>\n",
       "      <td>268.0</td>\n",
       "    </tr>\n",
       "    <tr>\n",
       "      <th>439</th>\n",
       "      <td>258.0</td>\n",
       "    </tr>\n",
       "    <tr>\n",
       "      <th>29</th>\n",
       "      <td>227.0</td>\n",
       "    </tr>\n",
       "  </tbody>\n",
       "</table>\n",
       "</div>"
      ],
      "text/plain": [
       "       revenue\n",
       "sku           \n",
       "799    79182.0\n",
       "708    29146.0\n",
       "9699    4896.0\n",
       "239     4199.0\n",
       "77      4055.0\n",
       "bobo    3595.0\n",
       "89      3341.0\n",
       "79      2817.0\n",
       "3799    2390.0\n",
       "218     2204.0\n",
       "1719    2052.0\n",
       "61399   1112.0\n",
       "339     1084.0\n",
       "3081     990.0\n",
       "2499     962.0\n",
       "897      804.0\n",
       "127      714.0\n",
       "8499     699.0\n",
       "1499     574.0\n",
       "539      536.0\n",
       "229      414.0\n",
       "628      268.0\n",
       "439      258.0\n",
       "29       227.0"
      ]
     },
     "execution_count": 26,
     "metadata": {},
     "output_type": "execute_result"
    }
   ],
   "source": [
    "# Comando usado para mostrar a receita por SKU \n",
    "receita_sku = dataset[['sku','revenue']].groupby(['sku']).sum().sort_values(by = 'revenue' , ascending = False)\n",
    "receita_sku"
   ]
  },
  {
   "cell_type": "code",
   "execution_count": 27,
   "id": "0ea3dc20",
   "metadata": {},
   "outputs": [
    {
     "data": {
      "image/png": "[encoded data removed]",
      "text/plain": [
       "<Figure size 600x600 with 1 Axes>"
      ]
     },
     "metadata": {},
     "output_type": "display_data"
    }
   ],
   "source": [
    "# Gráfico da receita por SKU\n",
    "receita_sku = dataset[['sku','revenue']].groupby(['sku']).sum().sort_values(by = 'revenue' , ascending = False)\n",
    "receita_sku.plot(kind='bar',color = '#4CB3A0')\n",
    "plt.title('Receita por SKU')\n",
    "plt.show()\n",
    "\n",
    "\n",
    "# O volume de vendas parece ser muito maior para o sku 799 e assim é normal ter uma receita maior. \n",
    "# É válido prestar atenção no preço médio, ao invés disso? \n",
    "# Poderia buscar saber se o preço para os skus se mantêm constante com o tempo."
   ]
  },
  {
   "cell_type": "code",
   "execution_count": 28,
   "id": "8a018b0c",
   "metadata": {},
   "outputs": [
    {
     "data": {
      "text/html": [
       "<div>\n",
       "<style scoped>\n",
       "    .dataframe tbody tr th:only-of-type {\n",
       "        vertical-align: middle;\n",
       "    }\n",
       "\n",
       "    .dataframe tbody tr th {\n",
       "        vertical-align: top;\n",
       "    }\n",
       "\n",
       "    .dataframe thead th {\n",
       "        text-align: right;\n",
       "    }\n",
       "</style>\n",
       "<table border=\"1\" class=\"dataframe\">\n",
       "  <thead>\n",
       "    <tr style=\"text-align: right;\">\n",
       "      <th></th>\n",
       "      <th>revenue</th>\n",
       "    </tr>\n",
       "    <tr>\n",
       "      <th>color</th>\n",
       "      <th></th>\n",
       "    </tr>\n",
       "  </thead>\n",
       "  <tbody>\n",
       "    <tr>\n",
       "      <th>Dark Blue</th>\n",
       "      <td>112364.0</td>\n",
       "    </tr>\n",
       "    <tr>\n",
       "      <th>Light Blue</th>\n",
       "      <td>7337.0</td>\n",
       "    </tr>\n",
       "    <tr>\n",
       "      <th>Black</th>\n",
       "      <td>4428.0</td>\n",
       "    </tr>\n",
       "    <tr>\n",
       "      <th>Grey Wash</th>\n",
       "      <td>2390.0</td>\n",
       "    </tr>\n",
       "    <tr>\n",
       "      <th>Mid Wash</th>\n",
       "      <td>2043.0</td>\n",
       "    </tr>\n",
       "    <tr>\n",
       "      <th>Navy Blue</th>\n",
       "      <td>1693.0</td>\n",
       "    </tr>\n",
       "    <tr>\n",
       "      <th>B</th>\n",
       "      <td>1491.0</td>\n",
       "    </tr>\n",
       "    <tr>\n",
       "      <th>Dark Wash</th>\n",
       "      <td>1311.0</td>\n",
       "    </tr>\n",
       "    <tr>\n",
       "      <th>C</th>\n",
       "      <td>975.0</td>\n",
       "    </tr>\n",
       "    <tr>\n",
       "      <th>Blue</th>\n",
       "      <td>878.0</td>\n",
       "    </tr>\n",
       "    <tr>\n",
       "      <th>A</th>\n",
       "      <td>815.0</td>\n",
       "    </tr>\n",
       "    <tr>\n",
       "      <th>Gray</th>\n",
       "      <td>815.0</td>\n",
       "    </tr>\n",
       "    <tr>\n",
       "      <th>Thin Blue</th>\n",
       "      <td>785.0</td>\n",
       "    </tr>\n",
       "    <tr>\n",
       "      <th>Rust</th>\n",
       "      <td>781.0</td>\n",
       "    </tr>\n",
       "    <tr>\n",
       "      <th>Brown</th>\n",
       "      <td>691.0</td>\n",
       "    </tr>\n",
       "    <tr>\n",
       "      <th>White</th>\n",
       "      <td>679.0</td>\n",
       "    </tr>\n",
       "    <tr>\n",
       "      <th>Cream</th>\n",
       "      <td>610.0</td>\n",
       "    </tr>\n",
       "    <tr>\n",
       "      <th>D</th>\n",
       "      <td>516.0</td>\n",
       "    </tr>\n",
       "    <tr>\n",
       "      <th>Green</th>\n",
       "      <td>499.0</td>\n",
       "    </tr>\n",
       "    <tr>\n",
       "      <th>Blue Stripes</th>\n",
       "      <td>496.0</td>\n",
       "    </tr>\n",
       "    <tr>\n",
       "      <th>Matcha</th>\n",
       "      <td>456.0</td>\n",
       "    </tr>\n",
       "    <tr>\n",
       "      <th>Midnight Blue</th>\n",
       "      <td>396.0</td>\n",
       "    </tr>\n",
       "    <tr>\n",
       "      <th>Mocha</th>\n",
       "      <td>288.0</td>\n",
       "    </tr>\n",
       "    <tr>\n",
       "      <th>Skintone</th>\n",
       "      <td>278.0</td>\n",
       "    </tr>\n",
       "    <tr>\n",
       "      <th>Yellow</th>\n",
       "      <td>278.0</td>\n",
       "    </tr>\n",
       "    <tr>\n",
       "      <th>Thin Black</th>\n",
       "      <td>268.0</td>\n",
       "    </tr>\n",
       "    <tr>\n",
       "      <th>E</th>\n",
       "      <td>258.0</td>\n",
       "    </tr>\n",
       "    <tr>\n",
       "      <th>Gray Stripes</th>\n",
       "      <td>255.0</td>\n",
       "    </tr>\n",
       "    <tr>\n",
       "      <th>Black Stripes</th>\n",
       "      <td>248.0</td>\n",
       "    </tr>\n",
       "    <tr>\n",
       "      <th>Mustard</th>\n",
       "      <td>245.0</td>\n",
       "    </tr>\n",
       "    <tr>\n",
       "      <th>Light Wash</th>\n",
       "      <td>238.0</td>\n",
       "    </tr>\n",
       "    <tr>\n",
       "      <th>Light Gray</th>\n",
       "      <td>228.0</td>\n",
       "    </tr>\n",
       "    <tr>\n",
       "      <th>Pink</th>\n",
       "      <td>228.0</td>\n",
       "    </tr>\n",
       "    <tr>\n",
       "      <th>Red Orange</th>\n",
       "      <td>228.0</td>\n",
       "    </tr>\n",
       "    <tr>\n",
       "      <th>920 Navy blue</th>\n",
       "      <td>227.0</td>\n",
       "    </tr>\n",
       "    <tr>\n",
       "      <th>922 Army green</th>\n",
       "      <td>207.0</td>\n",
       "    </tr>\n",
       "    <tr>\n",
       "      <th>922 Black</th>\n",
       "      <td>207.0</td>\n",
       "    </tr>\n",
       "    <tr>\n",
       "      <th>Cornflower Blue</th>\n",
       "      <td>198.0</td>\n",
       "    </tr>\n",
       "    <tr>\n",
       "      <th>Maroon</th>\n",
       "      <td>191.0</td>\n",
       "    </tr>\n",
       "  </tbody>\n",
       "</table>\n",
       "</div>"
      ],
      "text/plain": [
       "                  revenue\n",
       "color                    \n",
       "Dark Blue        112364.0\n",
       "Light Blue         7337.0\n",
       "Black              4428.0\n",
       "Grey Wash          2390.0\n",
       "Mid Wash           2043.0\n",
       "Navy Blue          1693.0\n",
       "B                  1491.0\n",
       "Dark Wash          1311.0\n",
       "C                   975.0\n",
       "Blue                878.0\n",
       "A                   815.0\n",
       "Gray                815.0\n",
       "Thin Blue           785.0\n",
       "Rust                781.0\n",
       "Brown               691.0\n",
       "White               679.0\n",
       "Cream               610.0\n",
       "D                   516.0\n",
       "Green               499.0\n",
       "Blue Stripes        496.0\n",
       "Matcha              456.0\n",
       "Midnight Blue       396.0\n",
       "Mocha               288.0\n",
       "Skintone            278.0\n",
       "Yellow              278.0\n",
       "Thin Black          268.0\n",
       "E                   258.0\n",
       "Gray Stripes        255.0\n",
       "Black Stripes       248.0\n",
       "Mustard             245.0\n",
       "Light Wash          238.0\n",
       "Light Gray          228.0\n",
       "Pink                228.0\n",
       "Red Orange          228.0\n",
       "920 Navy blue       227.0\n",
       "922 Army green      207.0\n",
       "922 Black           207.0\n",
       "Cornflower Blue     198.0\n",
       "Maroon              191.0"
      ]
     },
     "execution_count": 28,
     "metadata": {},
     "output_type": "execute_result"
    }
   ],
   "source": [
    "# Comando usado para mostrar a receita por cor\n",
    "dataset[['color','revenue']].groupby(['color']).sum().sort_values(by = 'revenue' , ascending = False)"
   ]
  },
  {
   "cell_type": "code",
   "execution_count": 29,
   "id": "3cb96602",
   "metadata": {},
   "outputs": [
    {
     "data": {
      "image/png": "[encoded data removed]",
      "text/plain": [
       "<Figure size 600x600 with 1 Axes>"
      ]
     },
     "metadata": {},
     "output_type": "display_data"
    }
   ],
   "source": [
    "# Gráfico da receita por cor\n",
    "receita_cor = dataset[['color','revenue']].groupby(['color']).sum().sort_values(by = 'revenue' , ascending = False) #grouping the data column and summing the quantity\n",
    "receita_cor.plot(kind='bar',log=True, color='#4CB3A0')    #assuming the y axis as logarithmic scale (#f1916d)\n",
    "plt.title('Receita por Cor')\n",
    "plt.show()"
   ]
  },
  {
   "cell_type": "code",
   "execution_count": 30,
   "id": "200a3eaa",
   "metadata": {},
   "outputs": [
    {
     "data": {
      "text/html": [
       "<div>\n",
       "<style scoped>\n",
       "    .dataframe tbody tr th:only-of-type {\n",
       "        vertical-align: middle;\n",
       "    }\n",
       "\n",
       "    .dataframe tbody tr th {\n",
       "        vertical-align: top;\n",
       "    }\n",
       "\n",
       "    .dataframe thead th {\n",
       "        text-align: right;\n",
       "    }\n",
       "</style>\n",
       "<table border=\"1\" class=\"dataframe\">\n",
       "  <thead>\n",
       "    <tr style=\"text-align: right;\">\n",
       "      <th></th>\n",
       "      <th>revenue</th>\n",
       "    </tr>\n",
       "    <tr>\n",
       "      <th>size</th>\n",
       "      <th></th>\n",
       "    </tr>\n",
       "  </thead>\n",
       "  <tbody>\n",
       "    <tr>\n",
       "      <th>XL</th>\n",
       "      <td>45868.0</td>\n",
       "    </tr>\n",
       "    <tr>\n",
       "      <th>M</th>\n",
       "      <td>25755.0</td>\n",
       "    </tr>\n",
       "    <tr>\n",
       "      <th>L</th>\n",
       "      <td>25362.0</td>\n",
       "    </tr>\n",
       "    <tr>\n",
       "      <th>2XL</th>\n",
       "      <td>12422.0</td>\n",
       "    </tr>\n",
       "    <tr>\n",
       "      <th>One Size</th>\n",
       "      <td>11793.0</td>\n",
       "    </tr>\n",
       "    <tr>\n",
       "      <th>3XL</th>\n",
       "      <td>11301.0</td>\n",
       "    </tr>\n",
       "    <tr>\n",
       "      <th>4XL</th>\n",
       "      <td>3205.0</td>\n",
       "    </tr>\n",
       "    <tr>\n",
       "      <th>One SIze</th>\n",
       "      <td>990.0</td>\n",
       "    </tr>\n",
       "    <tr>\n",
       "      <th>S</th>\n",
       "      <td>227.0</td>\n",
       "    </tr>\n",
       "  </tbody>\n",
       "</table>\n",
       "</div>"
      ],
      "text/plain": [
       "          revenue\n",
       "size             \n",
       "XL        45868.0\n",
       "M         25755.0\n",
       "L         25362.0\n",
       "2XL       12422.0\n",
       "One Size  11793.0\n",
       "3XL       11301.0\n",
       "4XL        3205.0\n",
       "One SIze    990.0\n",
       "S           227.0"
      ]
     },
     "execution_count": 30,
     "metadata": {},
     "output_type": "execute_result"
    }
   ],
   "source": [
    "# Comando usado para mostrar a receita por tamanho das roupas\n",
    "dataset[['size','revenue']].groupby(['size']).sum().sort_values(by = 'revenue' , ascending = False)"
   ]
  },
  {
   "cell_type": "code",
   "execution_count": 31,
   "id": "e0cdd088",
   "metadata": {},
   "outputs": [
    {
     "data": {
      "image/png": "[encoded data removed]",
      "text/plain": [
       "<Figure size 600x600 with 1 Axes>"
      ]
     },
     "metadata": {},
     "output_type": "display_data"
    }
   ],
   "source": [
    "# Gráfico da receita por tamanho das roupas\n",
    "receita_tamanho = dataset[['size','quantity']].groupby(['size']).sum().sort_values(by = 'quantity' , ascending = False)\n",
    "receita_tamanho.plot(kind='bar',color = '#4CB3A0')\n",
    "plt.title('Receita por Tamanho')\n",
    "plt.show()"
   ]
  },
  {
   "cell_type": "code",
   "execution_count": 32,
   "id": "5fb47916",
   "metadata": {},
   "outputs": [
    {
     "data": {
      "text/html": [
       "<div>\n",
       "<style scoped>\n",
       "    .dataframe tbody tr th:only-of-type {\n",
       "        vertical-align: middle;\n",
       "    }\n",
       "\n",
       "    .dataframe tbody tr th {\n",
       "        vertical-align: top;\n",
       "    }\n",
       "\n",
       "    .dataframe thead th {\n",
       "        text-align: right;\n",
       "    }\n",
       "</style>\n",
       "<table border=\"1\" class=\"dataframe\">\n",
       "  <thead>\n",
       "    <tr style=\"text-align: right;\">\n",
       "      <th></th>\n",
       "      <th>revenue</th>\n",
       "    </tr>\n",
       "    <tr>\n",
       "      <th>month</th>\n",
       "      <th></th>\n",
       "    </tr>\n",
       "  </thead>\n",
       "  <tbody>\n",
       "    <tr>\n",
       "      <th>9</th>\n",
       "      <td>46572.0</td>\n",
       "    </tr>\n",
       "    <tr>\n",
       "      <th>8</th>\n",
       "      <td>42513.0</td>\n",
       "    </tr>\n",
       "    <tr>\n",
       "      <th>7</th>\n",
       "      <td>32175.0</td>\n",
       "    </tr>\n",
       "    <tr>\n",
       "      <th>6</th>\n",
       "      <td>25259.0</td>\n",
       "    </tr>\n",
       "  </tbody>\n",
       "</table>\n",
       "</div>"
      ],
      "text/plain": [
       "       revenue\n",
       "month         \n",
       "9      46572.0\n",
       "8      42513.0\n",
       "7      32175.0\n",
       "6      25259.0"
      ]
     },
     "execution_count": 32,
     "metadata": {},
     "output_type": "execute_result"
    }
   ],
   "source": [
    "# Comando usado para mostrar a receita por mês\n",
    "vendas_mes = dataset[['month','revenue']].groupby(['month']).sum().sort_values(by = 'revenue' , ascending = False)\n",
    "vendas_mes"
   ]
  },
  {
   "cell_type": "code",
   "execution_count": 33,
   "id": "8a5d2624",
   "metadata": {},
   "outputs": [
    {
     "data": {
      "image/png": "[encoded data removed]",
      "text/plain": [
       "<Figure size 600x600 with 1 Axes>"
      ]
     },
     "metadata": {},
     "output_type": "display_data"
    }
   ],
   "source": [
    "# Gráfico da receita mensal\n",
    "receita_mes = dataset[['month','revenue']].groupby(['month']).sum()\n",
    "receita_mes.plot(kind='bar',color = '#4CB3A0')\n",
    "plt.title('Receita Mensal')\n",
    "plt.show()\n",
    "\n",
    "# Nesse caso podemos notar uma tendencia no aumento das vendas mensais!"
   ]
  },
  {
   "cell_type": "code",
   "execution_count": 34,
   "id": "1d4fb6f3",
   "metadata": {},
   "outputs": [
    {
     "data": {
      "text/html": [
       "<div>\n",
       "<style scoped>\n",
       "    .dataframe tbody tr th:only-of-type {\n",
       "        vertical-align: middle;\n",
       "    }\n",
       "\n",
       "    .dataframe tbody tr th {\n",
       "        vertical-align: top;\n",
       "    }\n",
       "\n",
       "    .dataframe thead th {\n",
       "        text-align: right;\n",
       "    }\n",
       "</style>\n",
       "<table border=\"1\" class=\"dataframe\">\n",
       "  <thead>\n",
       "    <tr style=\"text-align: right;\">\n",
       "      <th></th>\n",
       "      <th>revenue</th>\n",
       "    </tr>\n",
       "    <tr>\n",
       "      <th>year</th>\n",
       "      <th></th>\n",
       "    </tr>\n",
       "  </thead>\n",
       "  <tbody>\n",
       "    <tr>\n",
       "      <th>2022</th>\n",
       "      <td>146519.0</td>\n",
       "    </tr>\n",
       "  </tbody>\n",
       "</table>\n",
       "</div>"
      ],
      "text/plain": [
       "       revenue\n",
       "year          \n",
       "2022  146519.0"
      ]
     },
     "execution_count": 34,
     "metadata": {},
     "output_type": "execute_result"
    }
   ],
   "source": [
    "# Comando usado para mostrar a receita por ano\n",
    "# Nosso amostras dos dados é pequena contando apenas de um ano!\n",
    "vendas_ano = dataset[['year','revenue']].groupby(['year']).sum().sort_values(by = 'revenue' , ascending = False)\n",
    "vendas_ano"
   ]
  },
  {
   "cell_type": "code",
   "execution_count": 35,
   "id": "164f4526",
   "metadata": {},
   "outputs": [
    {
     "data": {
      "image/png": "[encoded data removed]",
      "text/plain": [
       "<Figure size 600x600 with 1 Axes>"
      ]
     },
     "metadata": {},
     "output_type": "display_data"
    }
   ],
   "source": [
    "# Gráfico da receita anual\n",
    "receita_ano = dataset[['year','revenue']].groupby(['year']).sum()\n",
    "receita_ano.plot(kind='bar',color = '#4CB3A0')\n",
    "plt.title('Receita por Ano')\n",
    "plt.show()"
   ]
  },
  {
   "cell_type": "code",
   "execution_count": 36,
   "id": "0d8e0b66",
   "metadata": {},
   "outputs": [
    {
     "data": {
      "text/plain": [
       "min     191.000000\n",
       "max     899.000000\n",
       "mean    278.024668\n",
       "Name: revenue, dtype: float64"
      ]
     },
     "execution_count": 36,
     "metadata": {},
     "output_type": "execute_result"
    }
   ],
   "source": [
    "# Determina o valor mínimo, máximo e a média da receita das vendas\n",
    "dataset['revenue'].agg(['min', 'max', 'mean'])"
   ]
  },
  {
   "cell_type": "code",
   "execution_count": 37,
   "id": "57d15c73",
   "metadata": {},
   "outputs": [
    {
     "data": {
      "text/plain": [
       "44.74"
      ]
     },
     "execution_count": 37,
     "metadata": {},
     "output_type": "execute_result"
    }
   ],
   "source": [
    "# Determina o desvio padrão das receitas\n",
    "round(dataset['revenue'].std(),2)"
   ]
  },
  {
   "cell_type": "code",
   "execution_count": 38,
   "id": "b686e0ed",
   "metadata": {},
   "outputs": [
    {
     "data": {
      "text/plain": [
       "146519.0"
      ]
     },
     "execution_count": 38,
     "metadata": {},
     "output_type": "execute_result"
    }
   ],
   "source": [
    "# Determina o total das vendas (Coluna: 'revenue')\n",
    "round(dataset['revenue'].sum(),2)"
   ]
  },
  {
   "cell_type": "code",
   "execution_count": 39,
   "id": "5d15494b",
   "metadata": {},
   "outputs": [
    {
     "data": {
      "text/html": [
       "<div>\n",
       "<style scoped>\n",
       "    .dataframe tbody tr th:only-of-type {\n",
       "        vertical-align: middle;\n",
       "    }\n",
       "\n",
       "    .dataframe tbody tr th {\n",
       "        vertical-align: top;\n",
       "    }\n",
       "\n",
       "    .dataframe thead th {\n",
       "        text-align: right;\n",
       "    }\n",
       "</style>\n",
       "<table border=\"1\" class=\"dataframe\">\n",
       "  <thead>\n",
       "    <tr style=\"text-align: right;\">\n",
       "      <th></th>\n",
       "      <th>order_id</th>\n",
       "      <th>order_date</th>\n",
       "      <th>sku</th>\n",
       "      <th>color</th>\n",
       "      <th>size</th>\n",
       "      <th>unit_price</th>\n",
       "      <th>quantity</th>\n",
       "      <th>revenue</th>\n",
       "      <th>day</th>\n",
       "      <th>month</th>\n",
       "      <th>year</th>\n",
       "    </tr>\n",
       "  </thead>\n",
       "  <tbody>\n",
       "    <tr>\n",
       "      <th>0</th>\n",
       "      <td>1</td>\n",
       "      <td>2022-06-01 16:05:00</td>\n",
       "      <td>708</td>\n",
       "      <td>Dark Blue</td>\n",
       "      <td>2XL</td>\n",
       "      <td>298.0</td>\n",
       "      <td>1</td>\n",
       "      <td>298.0</td>\n",
       "      <td>1</td>\n",
       "      <td>6</td>\n",
       "      <td>2022</td>\n",
       "    </tr>\n",
       "    <tr>\n",
       "      <th>1</th>\n",
       "      <td>1</td>\n",
       "      <td>2022-06-01 16:05:00</td>\n",
       "      <td>89</td>\n",
       "      <td>Dark Blue</td>\n",
       "      <td>2XL</td>\n",
       "      <td>258.0</td>\n",
       "      <td>1</td>\n",
       "      <td>258.0</td>\n",
       "      <td>1</td>\n",
       "      <td>6</td>\n",
       "      <td>2022</td>\n",
       "    </tr>\n",
       "    <tr>\n",
       "      <th>2</th>\n",
       "      <td>2</td>\n",
       "      <td>2022-06-10 17:03:00</td>\n",
       "      <td>bobo</td>\n",
       "      <td>Cream</td>\n",
       "      <td>One Size</td>\n",
       "      <td>228.0</td>\n",
       "      <td>1</td>\n",
       "      <td>228.0</td>\n",
       "      <td>10</td>\n",
       "      <td>6</td>\n",
       "      <td>2022</td>\n",
       "    </tr>\n",
       "    <tr>\n",
       "      <th>3</th>\n",
       "      <td>3</td>\n",
       "      <td>2022-06-10 19:59:00</td>\n",
       "      <td>799</td>\n",
       "      <td>Dark Blue</td>\n",
       "      <td>XL</td>\n",
       "      <td>264.0</td>\n",
       "      <td>1</td>\n",
       "      <td>264.0</td>\n",
       "      <td>10</td>\n",
       "      <td>6</td>\n",
       "      <td>2022</td>\n",
       "    </tr>\n",
       "    <tr>\n",
       "      <th>4</th>\n",
       "      <td>4</td>\n",
       "      <td>2022-06-11 11:42:00</td>\n",
       "      <td>799</td>\n",
       "      <td>Dark Blue</td>\n",
       "      <td>M</td>\n",
       "      <td>264.0</td>\n",
       "      <td>1</td>\n",
       "      <td>264.0</td>\n",
       "      <td>11</td>\n",
       "      <td>6</td>\n",
       "      <td>2022</td>\n",
       "    </tr>\n",
       "  </tbody>\n",
       "</table>\n",
       "</div>"
      ],
      "text/plain": [
       "   order_id          order_date   sku      color      size  unit_price  \\\n",
       "0         1 2022-06-01 16:05:00   708  Dark Blue       2XL       298.0   \n",
       "1         1 2022-06-01 16:05:00    89  Dark Blue       2XL       258.0   \n",
       "2         2 2022-06-10 17:03:00  bobo      Cream  One Size       228.0   \n",
       "3         3 2022-06-10 19:59:00   799  Dark Blue        XL       264.0   \n",
       "4         4 2022-06-11 11:42:00   799  Dark Blue         M       264.0   \n",
       "\n",
       "   quantity  revenue  day  month  year  \n",
       "0         1    298.0    1      6  2022  \n",
       "1         1    258.0    1      6  2022  \n",
       "2         1    228.0   10      6  2022  \n",
       "3         1    264.0   10      6  2022  \n",
       "4         1    264.0   11      6  2022  "
      ]
     },
     "execution_count": 39,
     "metadata": {},
     "output_type": "execute_result"
    }
   ],
   "source": [
    "dataset.head()"
   ]
  },
  {
   "cell_type": "markdown",
   "id": "54f86f3b",
   "metadata": {},
   "source": [
    "Agora damos inicio ao aprendizado de máquina que no nosso caso iremos utilizar a regressão linear"
   ]
  },
  {
   "cell_type": "code",
   "execution_count": 40,
   "id": "c7b6357e",
   "metadata": {},
   "outputs": [],
   "source": [
    "# Como não podemos ter um valor textual na coluna SKU nessa etapa do projeto então teremos que tratar\n",
    "# o SKU de nome 'bobo' conforme abaixo!\n",
    "\n",
    "# A primeira forma seria excluir todo o registro, mas estariamos perdendo dados.\n",
    "#dataset.drop(dataset.loc[dataset['sku']=='bobo'].index, inplace=True)\n",
    "\n",
    "# Logo após substituiriamos a palavra SEM VALOR pelo valor ZERO\n",
    "dataset.loc[(dataset['sku'] == 'bobo'), 'sku'] = 0"
   ]
  },
  {
   "cell_type": "code",
   "execution_count": 41,
   "id": "478c1fe9",
   "metadata": {},
   "outputs": [],
   "source": [
    "# Separa as features\n",
    "x = dataset[['sku', 'color', 'size']]"
   ]
  },
  {
   "cell_type": "code",
   "execution_count": 42,
   "id": "64f325af",
   "metadata": {},
   "outputs": [],
   "source": [
    "# Separa a rotulação\n",
    "y = dataset['revenue']"
   ]
  },
  {
   "cell_type": "code",
   "execution_count": 43,
   "id": "97e23312",
   "metadata": {},
   "outputs": [],
   "source": [
    "# Divisão do conjunto de treino e teste\n",
    "X_train, X_test, y_train, y_test = train_test_split(x, y, train_size=0.70, random_state=42)"
   ]
  },
  {
   "cell_type": "code",
   "execution_count": 44,
   "id": "91eee3b8",
   "metadata": {},
   "outputs": [],
   "source": [
    "# A regressão linear fuinciona melhor com valores numericos de 0 e 1, então iremos transformar \n",
    "# os dados das colunas 'color' e 'size' em valores numéricos para usá-los no treino, através do\n",
    "# OneHotEncoder ou pandas.get_dummies no nosso caso utilizamos o OneHotEncoder!\n",
    "\n",
    "encoder = OneHotEncoder(handle_unknown='ignore', sparse_output=False)\n",
    "encoded_cols_train = pd.DataFrame(encoder.fit_transform(X_train[['color', 'size']]))\n",
    "encoded_cols_test = pd.DataFrame(encoder.transform(X_test[['color', 'size']]))"
   ]
  },
  {
   "cell_type": "code",
   "execution_count": 45,
   "id": "ee31b7db",
   "metadata": {},
   "outputs": [],
   "source": [
    "encoded_cols_train.columns = encoder.get_feature_names_out()\n",
    "encoded_cols_test.columns = encoder.get_feature_names_out()"
   ]
  },
  {
   "cell_type": "code",
   "execution_count": 46,
   "id": "cbd94684",
   "metadata": {},
   "outputs": [],
   "source": [
    "encoded_cols_train.index = X_train.index\n",
    "encoded_cols_test.index = X_test.index"
   ]
  },
  {
   "cell_type": "code",
   "execution_count": 47,
   "id": "966c4d20",
   "metadata": {},
   "outputs": [],
   "source": [
    "num_X_train = X_train.drop(['color', 'size'], axis=1)\n",
    "num_X_test = X_test.drop(['color', 'size'], axis=1)"
   ]
  },
  {
   "cell_type": "code",
   "execution_count": 48,
   "id": "c846e855",
   "metadata": {},
   "outputs": [],
   "source": [
    "encoded_X_train = pd.concat([num_X_train, encoded_cols_train], axis=1)\n",
    "encoded_X_test = pd.concat([num_X_test, encoded_cols_test], axis=1)"
   ]
  },
  {
   "cell_type": "code",
   "execution_count": 49,
   "id": "96a4a43f",
   "metadata": {},
   "outputs": [],
   "source": [
    "# Criar modelo Regressão Linear\n",
    "modelo = LinearRegression()"
   ]
  },
  {
   "cell_type": "code",
   "execution_count": 50,
   "id": "9b738b22",
   "metadata": {},
   "outputs": [
    {
     "data": {
      "text/html": [
       "<style>#sk-container-id-1 {color: black;}#sk-container-id-1 pre{padding: 0;}#sk-container-id-1 div.sk-toggleable {background-color: white;}#sk-container-id-1 label.sk-toggleable__label {cursor: pointer;display: block;width: 100%;margin-bottom: 0;padding: 0.3em;box-sizing: border-box;text-align: center;}#sk-container-id-1 label.sk-toggleable__label-arrow:before {content: \"▸\";float: left;margin-right: 0.25em;color: #696969;}#sk-container-id-1 label.sk-toggleable__label-arrow:hover:before {color: black;}#sk-container-id-1 div.sk-estimator:hover label.sk-toggleable__label-arrow:before {color: black;}#sk-container-id-1 div.sk-toggleable__content {max-height: 0;max-width: 0;overflow: hidden;text-align: left;background-color: #f0f8ff;}#sk-container-id-1 div.sk-toggleable__content pre {margin: 0.2em;color: black;border-radius: 0.25em;background-color: #f0f8ff;}#sk-container-id-1 input.sk-toggleable__control:checked~div.sk-toggleable__content {max-height: 200px;max-width: 100%;overflow: auto;}#sk-container-id-1 input.sk-toggleable__control:checked~label.sk-toggleable__label-arrow:before {content: \"▾\";}#sk-container-id-1 div.sk-estimator input.sk-toggleable__control:checked~label.sk-toggleable__label {background-color: #d4ebff;}#sk-container-id-1 div.sk-label input.sk-toggleable__control:checked~label.sk-toggleable__label {background-color: #d4ebff;}#sk-container-id-1 input.sk-hidden--visually {border: 0;clip: rect(1px 1px 1px 1px);clip: rect(1px, 1px, 1px, 1px);height: 1px;margin: -1px;overflow: hidden;padding: 0;position: absolute;width: 1px;}#sk-container-id-1 div.sk-estimator {font-family: monospace;background-color: #f0f8ff;border: 1px dotted black;border-radius: 0.25em;box-sizing: border-box;margin-bottom: 0.5em;}#sk-container-id-1 div.sk-estimator:hover {background-color: #d4ebff;}#sk-container-id-1 div.sk-parallel-item::after {content: \"\";width: 100%;border-bottom: 1px solid gray;flex-grow: 1;}#sk-container-id-1 div.sk-label:hover label.sk-toggleable__label {background-color: #d4ebff;}#sk-container-id-1 div.sk-serial::before {content: \"\";position: absolute;border-left: 1px solid gray;box-sizing: border-box;top: 0;bottom: 0;left: 50%;z-index: 0;}#sk-container-id-1 div.sk-serial {display: flex;flex-direction: column;align-items: center;background-color: white;padding-right: 0.2em;padding-left: 0.2em;position: relative;}#sk-container-id-1 div.sk-item {position: relative;z-index: 1;}#sk-container-id-1 div.sk-parallel {display: flex;align-items: stretch;justify-content: center;background-color: white;position: relative;}#sk-container-id-1 div.sk-item::before, #sk-container-id-1 div.sk-parallel-item::before {content: \"\";position: absolute;border-left: 1px solid gray;box-sizing: border-box;top: 0;bottom: 0;left: 50%;z-index: -1;}#sk-container-id-1 div.sk-parallel-item {display: flex;flex-direction: column;z-index: 1;position: relative;background-color: white;}#sk-container-id-1 div.sk-parallel-item:first-child::after {align-self: flex-end;width: 50%;}#sk-container-id-1 div.sk-parallel-item:last-child::after {align-self: flex-start;width: 50%;}#sk-container-id-1 div.sk-parallel-item:only-child::after {width: 0;}#sk-container-id-1 div.sk-dashed-wrapped {border: 1px dashed gray;margin: 0 0.4em 0.5em 0.4em;box-sizing: border-box;padding-bottom: 0.4em;background-color: white;}#sk-container-id-1 div.sk-label label {font-family: monospace;font-weight: bold;display: inline-block;line-height: 1.2em;}#sk-container-id-1 div.sk-label-container {text-align: center;}#sk-container-id-1 div.sk-container {/* jupyter's `normalize.less` sets `[hidden] { display: none; }` but bootstrap.min.css set `[hidden] { display: none !important; }` so we also need the `!important` here to be able to override the default hidden behavior on the sphinx rendered scikit-learn.org. See: https://github.com/scikit-learn/scikit-learn/issues/21755 */display: inline-block !important;position: relative;}#sk-container-id-1 div.sk-text-repr-fallback {display: none;}</style><div id=\"sk-container-id-1\" class=\"sk-top-container\"><div class=\"sk-text-repr-fallback\"><pre>LinearRegression()</pre><b>In a Jupyter environment, please rerun this cell to show the HTML representation or trust the notebook. <br />On GitHub, the HTML representation is unable to render, please try loading this page with nbviewer.org.</b></div><div class=\"sk-container\" hidden><div class=\"sk-item\"><div class=\"sk-estimator sk-toggleable\"><input class=\"sk-toggleable__control sk-hidden--visually\" id=\"sk-estimator-id-1\" type=\"checkbox\" checked><label for=\"sk-estimator-id-1\" class=\"sk-toggleable__label sk-toggleable__label-arrow\">LinearRegression</label><div class=\"sk-toggleable__content\"><pre>LinearRegression()</pre></div></div></div></div></div>"
      ],
      "text/plain": [
       "LinearRegression()"
      ]
     },
     "execution_count": 50,
     "metadata": {},
     "output_type": "execute_result"
    }
   ],
   "source": [
    "#treinar\n",
    "modelo.fit(encoded_X_train, y_train)"
   ]
  },
  {
   "cell_type": "code",
   "execution_count": 51,
   "id": "b695505a",
   "metadata": {},
   "outputs": [],
   "source": [
    "#predição\n",
    "predicao = modelo.predict(encoded_X_test)"
   ]
  },
  {
   "cell_type": "code",
   "execution_count": 52,
   "id": "9cd191ed",
   "metadata": {},
   "outputs": [
    {
     "data": {
      "text/plain": [
       "312    278.0\n",
       "393    198.0\n",
       "6      264.0\n",
       "281    288.0\n",
       "78     268.0\n",
       "       ...  \n",
       "289    269.0\n",
       "24     288.0\n",
       "17     228.0\n",
       "275    288.0\n",
       "66     258.0\n",
       "Name: revenue, Length: 159, dtype: float64"
      ]
     },
     "execution_count": 52,
     "metadata": {},
     "output_type": "execute_result"
    }
   ],
   "source": [
    "#resposta esperada do modelo\n",
    "y_test"
   ]
  },
  {
   "cell_type": "code",
   "execution_count": 53,
   "id": "c8c6c4c4",
   "metadata": {},
   "outputs": [
    {
     "data": {
      "text/plain": [
       "array([ 6.02372868e-04, -4.21034306e+01, -1.53445860e+00, -1.84344586e+01,\n",
       "        7.41473431e+01, -4.17182661e+00, -4.78030143e+01, -8.63117037e+00,\n",
       "       -1.97011253e+01,  1.14308122e+01,  1.30863652e+02,  3.09347628e+01,\n",
       "       -3.01857359e+00, -7.03445860e+00,  6.53462367e+00,  2.82817339e+00,\n",
       "       -1.11922803e+01,  1.64125173e+01,  3.14927947e+01, -1.32128490e+01,\n",
       "       -6.01363476e+01, -2.31363476e+01, -6.21861915e+00,  1.14308122e+01,\n",
       "       -2.01320430e+01, -2.41337649e+01, -2.31363476e+01, -2.31363476e+01,\n",
       "        1.28679570e+01,  1.28679570e+01,  1.58281734e+01,  1.58281734e+01,\n",
       "       -2.94682461e+01,  1.28679570e+01,  1.20360254e+01,  5.82393932e+00,\n",
       "        1.53785882e+01, -2.00569131e+00,  3.76577410e+00, -6.14871789e+01,\n",
       "        4.93589176e+00,  2.76503137e+00,  1.87876200e+01])"
      ]
     },
     "execution_count": 53,
     "metadata": {},
     "output_type": "execute_result"
    }
   ],
   "source": [
    "modelo.coef_"
   ]
  },
  {
   "cell_type": "code",
   "execution_count": 54,
   "id": "8ebf5d9c",
   "metadata": {},
   "outputs": [
    {
     "data": {
      "text/plain": [
       "0.013516142317044233"
      ]
     },
     "execution_count": 54,
     "metadata": {},
     "output_type": "execute_result"
    }
   ],
   "source": [
    "modelo.score(encoded_X_test, y_test)"
   ]
  },
  {
   "cell_type": "code",
   "execution_count": 55,
   "id": "a213b5b8",
   "metadata": {},
   "outputs": [
    {
     "data": {
      "text/plain": [
       "3861.9468326879314"
      ]
     },
     "execution_count": 55,
     "metadata": {},
     "output_type": "execute_result"
    }
   ],
   "source": [
    "mean_squared_error(predicao, y_test)\n",
    "\n",
    "# Se buscar o RMSE, pode-se passar um argumento squared=False"
   ]
  },
  {
   "cell_type": "code",
   "execution_count": 56,
   "id": "b8f6beab",
   "metadata": {},
   "outputs": [
    {
     "name": "stdout",
     "output_type": "stream",
     "text": [
      "Teste de Hipótese 1:\n",
      "Estatística t: 3.2576484323511807\n",
      "Valor p: 0.0015394691784946807\n",
      "Rejeitamos a hipótese nula. Há uma diferença significativa entre as médias de vendas das categorias.\n"
     ]
    }
   ],
   "source": [
    "from scipy import stats\n",
    "import pandas as pd\n",
    "# Teste de hipótese para comparar a média de vendas de roupas em dois tamanhos diferentes (4XL e M).\n",
    "dataset = pd.read_csv(url)\n",
    "dataset\n",
    "# Extraindo as vendas de roupas nos tamanhos 4XL e M.\n",
    "categoria_4XL = dataset[dataset['size'] == '4XL']['revenue']\n",
    "categoria_M = dataset[dataset['size'] == 'M']['revenue']\n",
    "\n",
    "# Realizando o teste de hipótese\n",
    "t_statistic, p_value = stats.ttest_ind(categoria_4XL, categoria_M)\n",
    "print(\"Teste de Hipótese 1:\")\n",
    "print(\"Estatística t:\", t_statistic)\n",
    "print(\"Valor p:\", p_value)\n",
    "if p_value < 0.05:\n",
    "    print(\"Rejeitamos a hipótese nula. Há uma diferença significativa entre as médias de vendas das categorias.\")\n",
    "else:\n",
    "    print(\"Não rejeitamos a hipótese nula. Não há diferença significativa entre as médias de vendas das categorias.\")"
   ]
  },
  {
   "cell_type": "code",
   "execution_count": null,
   "id": "ae77d153",
   "metadata": {},
   "outputs": [],
   "source": []
  },
  {
   "cell_type": "code",
   "execution_count": null,
   "id": "15b94853",
   "metadata": {},
   "outputs": [],
   "source": []
  },
  {
   "cell_type": "code",
   "execution_count": null,
   "id": "85a31ede",
   "metadata": {},
   "outputs": [],
   "source": []
  },
  {
   "cell_type": "code",
   "execution_count": null,
   "id": "fc42764e",
   "metadata": {},
   "outputs": [],
   "source": []
  },
  {
   "cell_type": "code",
   "execution_count": null,
   "id": "55d7bf29",
   "metadata": {},
   "outputs": [],
   "source": []
  },
  {
   "cell_type": "code",
   "execution_count": null,
   "id": "70a5d356",
   "metadata": {},
   "outputs": [],
   "source": []
  }
 ],
 "metadata": {
  "kernelspec": {
   "display_name": "Python 3 (ipykernel)",
   "language": "python",
   "name": "python3"
  },
  "language_info": {
   "codemirror_mode": {
    "name": "ipython",
    "version": 3
   },
   "file_extension": ".py",
   "mimetype": "text/x-python",
   "name": "python",
   "nbconvert_exporter": "python",
   "pygments_lexer": "ipython3",
   "version": "3.11.5"
  }
 },
 "nbformat": 4,
 "nbformat_minor": 5
}
